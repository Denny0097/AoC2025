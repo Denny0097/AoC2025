{
 "cells": [
  {
   "cell_type": "markdown",
   "id": "b1cd770b",
   "metadata": {},
   "source": [
    "### Cifar10 dataset loader\n"
   ]
  },
  {
   "cell_type": "code",
   "execution_count": 1,
   "id": "6876b80f",
   "metadata": {},
   "outputs": [
    {
     "name": "stdout",
     "output_type": "stream",
     "text": [
      "Files already downloaded and verified\n",
      "Files already downloaded and verified\n",
      "cifar10: 45000, 5000, 10000, torch.Size([3, 32, 32])\n"
     ]
    }
   ],
   "source": [
    "import torch\n",
    "from torch.utils.data import DataLoader\n",
    "from torchvision import datasets, transforms\n",
    "\n",
    "\n",
    "def get_loaders(\n",
    "    source, batch_size, transform, eval_transform=None, root=\"data\", split_ratio=0.1\n",
    "):\n",
    "    if eval_transform is None:\n",
    "        eval_transform = transform\n",
    "\n",
    "    trainset = source(\n",
    "        root=root,\n",
    "        train=True,\n",
    "        download=True,\n",
    "        transform=transform,\n",
    "    )\n",
    "    testset = source(\n",
    "        root=root,\n",
    "        train=False,\n",
    "        download=True,\n",
    "        transform=eval_transform,\n",
    "    )\n",
    "\n",
    "    trainset, valset = torch.utils.data.random_split(\n",
    "        trainset,\n",
    "        [int((1 - split_ratio) * len(trainset)), int(split_ratio * len(trainset))],\n",
    "    )\n",
    "\n",
    "    trainloader = DataLoader(trainset, batch_size=batch_size, shuffle=True, num_workers=2)\n",
    "    valloader = DataLoader(valset, batch_size=batch_size, shuffle=True, num_workers=2)\n",
    "    testloader = DataLoader(testset, batch_size=batch_size, shuffle=False, num_workers=2)\n",
    "    return trainloader, valloader, testloader\n",
    "\n",
    "\n",
    "def get_cifar10_loaders(batch_size, root=\"data/cifar10\", split_ratio=0.1):\n",
    "    transform = transforms.Compose(\n",
    "        [\n",
    "            transforms.RandomCrop(32, padding=4),\n",
    "            transforms.RandomHorizontalFlip(),\n",
    "            transforms.ToTensor(),\n",
    "            transforms.Normalize((0.4914, 0.4822, 0.4465), (0.247, 0.243, 0.261)),\n",
    "            \n",
    "            transforms.RandomRotation(degrees=15),                     # Small random rotation\n",
    "            transforms.RandomErasing(p=0.3, scale=(0.02, 0.1))         # Random erasing augmentation\n",
    "        ]\n",
    "    )\n",
    "    eval_transform = transforms.Compose(\n",
    "        [\n",
    "            transforms.ToTensor(),\n",
    "            transforms.Normalize((0.4914, 0.4822, 0.4465), (0.247, 0.243, 0.261)),\n",
    "        ]\n",
    "    )\n",
    "    return get_loaders(\n",
    "        datasets.CIFAR10,\n",
    "        batch_size,\n",
    "        transform,\n",
    "        eval_transform=eval_transform,\n",
    "        root=root,\n",
    "        split_ratio=split_ratio,\n",
    "    )\n",
    "\n",
    "\n",
    "DATALOADERS = {\n",
    "    \"cifar10\": get_cifar10_loaders,\n",
    "}\n",
    "\n",
    "if __name__ == \"__main__\":\n",
    "    datasets_to_load = [\"cifar10\"]\n",
    "    for dataset in datasets_to_load:\n",
    "        trainloader, valloader, testloader = DATALOADERS[dataset](batch_size=64)\n",
    "        print(f'{dataset}: {len(trainloader.dataset)}, {len(valloader.dataset)}, {len(testloader.dataset)}, {trainloader.dataset[0][0].shape}')\n",
    "\n"
   ]
  },
  {
   "cell_type": "markdown",
   "id": "40e4d88b",
   "metadata": {},
   "source": [
    "#### Useful utilities\n",
    "- ``evaluate(model, loader, criterion, device)`` – Evaluates a model on a dataset, computing loss, accuracy, and confusion matrix.\n",
    "- ``plot_loss_accuracy(train_loss, train_acc, val_loss, val_acc, filename)`` – Plots and saves the training and validation loss/accuracy curves.\n",
    "- ``save_model(model, filename, verbose, existed)`` – Saves a PyTorch model's state dictionary while handling filename conflicts.\n",
    "- ``load_model(model, filename, qconfig, fuse_modules, verbose)`` – Loads a saved model, optionally applying quantization and module fusion.\n",
    "- ``reset_seed(seed)`` – Sets seeds for PyTorch and NumPy to ensure reproducibility.\n",
    "- ``plot_confusion_matrix(conf_matrix, filename)`` – Generates and saves a heatmap of the confusion matrix for CIFAR-10 classification.\n",
    "\n"
   ]
  },
  {
   "cell_type": "code",
   "execution_count": 2,
   "id": "75136aa8",
   "metadata": {},
   "outputs": [],
   "source": [
    "import os\n",
    "\n",
    "import matplotlib.pyplot as plt\n",
    "import seaborn as sns\n",
    "import numpy as np\n",
    "from sklearn.metrics import confusion_matrix\n",
    "import torch\n",
    "import torch.ao.quantization as tq\n",
    "from tqdm.notebook import tqdm\n",
    "\n",
    "DEFAULT_DEVICE = \"cuda\" if torch.cuda.is_available() else \"cpu\"\n",
    "\n",
    "\n",
    "def evaluate(model, loader, criterion, device=DEFAULT_DEVICE):\n",
    "    running_loss = 0\n",
    "    total, correct = 0, 0\n",
    "    all_preds, all_labels = [], []\n",
    "\n",
    "    model.eval()\n",
    "    with torch.no_grad():\n",
    "        loop = tqdm(loader, desc=\"Evaluating\", leave=True)\n",
    "\n",
    "        for images, labels in loop:\n",
    "            images, labels = images.to(device), labels.to(device)\n",
    "            output = model(images)\n",
    "            loss = criterion(output, labels)\n",
    "\n",
    "            running_loss += loss.item()\n",
    "            predicted = torch.argmax(output, 1)\n",
    "            total += labels.size(0)\n",
    "            correct += (predicted == labels).sum().item()\n",
    "\n",
    "            all_preds.extend(predicted.cpu().numpy())\n",
    "            all_labels.extend(labels.cpu().numpy())\n",
    "\n",
    "        loop.set_postfix(\n",
    "            loss=running_loss / (total / images.shape[0]), accuracy=correct / total\n",
    "        )\n",
    "\n",
    "    avg_loss = running_loss / len(loader)\n",
    "    accuracy = correct / total\n",
    "    all_preds = np.array(all_preds)\n",
    "    all_labels = np.array(all_labels)\n",
    "    conf_matrix = confusion_matrix(all_labels, all_preds)\n",
    "    return avg_loss, accuracy, conf_matrix\n",
    "\n",
    "\n",
    "def preprocess_filename(filename: str, existed: str = \"keep_both\") -> str:\n",
    "    if existed == \"overwrite\":\n",
    "        pass\n",
    "    elif existed == \"keep_both\":\n",
    "        base, ext = os.path.splitext(filename)\n",
    "        cnt = 1\n",
    "        while os.path.exists(filename):\n",
    "            filename = f\"{base}-{cnt}{ext}\"\n",
    "            cnt += 1\n",
    "    elif existed == \"raise\" and os.path.exists(filename):\n",
    "        raise FileExistsError(f\"{filename} already exists.\")\n",
    "    else:\n",
    "        raise ValueError(f\"Unknown value for 'existed': {existed}\")\n",
    "    return filename\n",
    "\n",
    "\n",
    "def plot_loss_accuracy(\n",
    "    train_loss, train_acc, val_loss, val_acc, filename=\"loss_accuracy.png\"\n",
    "):\n",
    "\n",
    "    fig, (ax1, ax2) = plt.subplots(1, 2)\n",
    "\n",
    "    ax1.set_xlabel(\"Epoch\")\n",
    "    ax1.set_ylabel(\"Loss\")\n",
    "    ax1.plot(train_loss, color=\"tab:blue\")\n",
    "    ax1.plot(val_loss, color=\"tab:red\")\n",
    "    ax1.legend([\"Training\", \"Validation\"])\n",
    "    ax1.set_title(\"Loss\")\n",
    "\n",
    "    ax2.set_xlabel(\"Epoch\")\n",
    "    ax2.set_ylabel(\"Accuracy\")\n",
    "    ax2.plot(train_acc, color=\"tab:blue\")\n",
    "    ax2.plot(val_acc, color=\"tab:red\")\n",
    "    ax2.legend([\"Training\", \"Validation\"])\n",
    "    ax2.set_title(\"Accuracy\")\n",
    "\n",
    "    fig.tight_layout()\n",
    "    filename = preprocess_filename(filename)\n",
    "    os.makedirs(os.path.dirname(filename), exist_ok=True)\n",
    "    plt.savefig(filename)\n",
    "    print(f\"Plot saved at {filename}\")\n",
    "\n",
    "\n",
    "def plot_confusion_matrix(conf_matrix, filename=\"conf_matrix.png\"):\n",
    "    classes = [\n",
    "        \"airplane\",\n",
    "        \"automobile\",\n",
    "        \"bird\",\n",
    "        \"cat\",\n",
    "        \"deer\",\n",
    "        \"dog\",\n",
    "        \"frog\",\n",
    "        \"horse\",\n",
    "        \"ship\",\n",
    "        \"truck\",\n",
    "    ]\n",
    "    plt.figure(figsize=(10, 8))\n",
    "    sns.heatmap(\n",
    "        conf_matrix,\n",
    "        annot=True,\n",
    "        fmt=\"d\",\n",
    "        cmap=\"Blues\",\n",
    "        xticklabels=classes,\n",
    "        yticklabels=classes,\n",
    "    )\n",
    "    plt.xlabel(\"Predicted\")\n",
    "    plt.ylabel(\"True\")\n",
    "    plt.title(\"Confusion Matrix for CIFAR-10 Classification\")\n",
    "    plt.tight_layout()\n",
    "\n",
    "    filename = preprocess_filename(filename)\n",
    "    plt.savefig(filename)\n",
    "    print(f\"Confusion matrix saved to {filename}\")\n",
    "\n",
    "\n",
    "def save_model(\n",
    "    model, filename: str, verbose: bool = True, existed: str = \"keep_both\"\n",
    ") -> None:\n",
    "    filename = preprocess_filename(filename, existed)\n",
    "\n",
    "    os.makedirs(os.path.dirname(filename), exist_ok=True)\n",
    "    torch.save(model.state_dict(), filename)\n",
    "    if verbose:\n",
    "        print(f\"Model saved at {filename} ({os.path.getsize(filename) / 1e6} MB)\")\n",
    "    else:\n",
    "        print(f\"Model saved at {filename}\")\n",
    "\n",
    "\n",
    "def load_model(\n",
    "    model, filename: str, qconfig=None, fuse_modules: bool = False, verbose: bool = True\n",
    ") -> torch.nn.Module:\n",
    "    if fuse_modules and hasattr(model, \"fuse_modules\"):\n",
    "        print(\"Fusing modules\")\n",
    "        model.fuse_modules()\n",
    "    else:\n",
    "        print(\"Model does not have 'fuse_modules' method. Skipping fusion.\")\n",
    "\n",
    "    if qconfig is not None:\n",
    "        model = tq.QuantWrapper(model)\n",
    "        model.qconfig = qconfig\n",
    "        tq.prepare(model, inplace=True)\n",
    "        tq.convert(model, inplace=True)\n",
    "\n",
    "    device = DEFAULT_DEVICE if qconfig is None else \"cpu\"\n",
    "    model.load_state_dict(torch.load(filename, map_location=device))\n",
    "\n",
    "    if verbose:\n",
    "        print(f\"Model loaded from {filename} ({os.path.getsize(filename) / 1e6} MB)\")\n",
    "    return model\n",
    "\n",
    "\n",
    "def reset_seed(seed: int = 42):\n",
    "    torch.manual_seed(seed)\n",
    "    np.random.seed(seed)\n",
    "    torch.backends.cudnn.deterministic = True\n",
    "    torch.backends.cudnn.benchmark = False\n",
    "\n"
   ]
  },
  {
   "cell_type": "markdown",
   "id": "f7cec419",
   "metadata": {},
   "source": [
    "### VGG\n",
    "\n",
    "#### Implement your model based on the given model architecture in the lab material.\n",
    "\n"
   ]
  },
  {
   "cell_type": "code",
   "execution_count": 3,
   "id": "09525dfc",
   "metadata": {},
   "outputs": [
    {
     "name": "stdout",
     "output_type": "stream",
     "text": [
      "VGG(\n",
      "  (conv1): Sequential(\n",
      "    (0): Conv2d(3, 32, kernel_size=(3, 3), stride=(1, 1), padding=(1, 1))\n",
      "    (1): BatchNorm2d(32, eps=1e-05, momentum=0.1, affine=True, track_running_stats=True)\n",
      "    (2): ReLU(inplace=True)\n",
      "    (3): Conv2d(32, 32, kernel_size=(3, 3), stride=(1, 1), padding=(1, 1))\n",
      "    (4): BatchNorm2d(32, eps=1e-05, momentum=0.1, affine=True, track_running_stats=True)\n",
      "    (5): ReLU(inplace=True)\n",
      "    (6): MaxPool2d(kernel_size=2, stride=2, padding=0, dilation=1, ceil_mode=False)\n",
      "  )\n",
      "  (conv2): Sequential(\n",
      "    (0): Conv2d(32, 64, kernel_size=(3, 3), stride=(1, 1), padding=(1, 1))\n",
      "    (1): BatchNorm2d(64, eps=1e-05, momentum=0.1, affine=True, track_running_stats=True)\n",
      "    (2): ReLU(inplace=True)\n",
      "    (3): Conv2d(64, 64, kernel_size=(3, 3), stride=(1, 1), padding=(1, 1))\n",
      "    (4): BatchNorm2d(64, eps=1e-05, momentum=0.1, affine=True, track_running_stats=True)\n",
      "    (5): ReLU(inplace=True)\n",
      "    (6): MaxPool2d(kernel_size=2, stride=2, padding=0, dilation=1, ceil_mode=False)\n",
      "  )\n",
      "  (conv3): Sequential(\n",
      "    (0): Conv2d(64, 128, kernel_size=(3, 3), stride=(1, 1), padding=(1, 1))\n",
      "    (1): BatchNorm2d(128, eps=1e-05, momentum=0.1, affine=True, track_running_stats=True)\n",
      "    (2): ReLU(inplace=True)\n",
      "    (3): Conv2d(128, 128, kernel_size=(3, 3), stride=(1, 1), padding=(1, 1))\n",
      "    (4): BatchNorm2d(128, eps=1e-05, momentum=0.1, affine=True, track_running_stats=True)\n",
      "    (5): ReLU(inplace=True)\n",
      "    (6): MaxPool2d(kernel_size=2, stride=2, padding=0, dilation=1, ceil_mode=False)\n",
      "  )\n",
      "  (conv4): Sequential(\n",
      "    (0): Conv2d(128, 256, kernel_size=(3, 3), stride=(1, 1), padding=(1, 1))\n",
      "    (1): BatchNorm2d(256, eps=1e-05, momentum=0.1, affine=True, track_running_stats=True)\n",
      "    (2): ReLU(inplace=True)\n",
      "  )\n",
      "  (conv5): Sequential(\n",
      "    (0): Conv2d(256, 256, kernel_size=(3, 3), stride=(1, 1), padding=(1, 1))\n",
      "    (1): BatchNorm2d(256, eps=1e-05, momentum=0.1, affine=True, track_running_stats=True)\n",
      "    (2): ReLU(inplace=True)\n",
      "    (3): MaxPool2d(kernel_size=2, stride=2, padding=0, dilation=1, ceil_mode=False)\n",
      "  )\n",
      "  (fc6): Sequential(\n",
      "    (0): Linear(in_features=1024, out_features=256, bias=True)\n",
      "    (1): ReLU(inplace=True)\n",
      "  )\n",
      "  (fc7): Sequential(\n",
      "    (0): Linear(in_features=256, out_features=128, bias=True)\n",
      "    (1): ReLU(inplace=True)\n",
      "  )\n",
      "  (fc8): Linear(in_features=128, out_features=10, bias=True)\n",
      ")\n",
      "----------------------------------------------------------------\n",
      "        Layer (type)               Output Shape         Param #\n",
      "================================================================\n",
      "            Conv2d-1           [-1, 32, 32, 32]             896\n",
      "       BatchNorm2d-2           [-1, 32, 32, 32]              64\n",
      "              ReLU-3           [-1, 32, 32, 32]               0\n",
      "            Conv2d-4           [-1, 32, 32, 32]           9,248\n",
      "       BatchNorm2d-5           [-1, 32, 32, 32]              64\n",
      "              ReLU-6           [-1, 32, 32, 32]               0\n",
      "         MaxPool2d-7           [-1, 32, 16, 16]               0\n",
      "            Conv2d-8           [-1, 64, 16, 16]          18,496\n",
      "       BatchNorm2d-9           [-1, 64, 16, 16]             128\n",
      "             ReLU-10           [-1, 64, 16, 16]               0\n",
      "           Conv2d-11           [-1, 64, 16, 16]          36,928\n",
      "      BatchNorm2d-12           [-1, 64, 16, 16]             128\n",
      "             ReLU-13           [-1, 64, 16, 16]               0\n",
      "        MaxPool2d-14             [-1, 64, 8, 8]               0\n",
      "           Conv2d-15            [-1, 128, 8, 8]          73,856\n",
      "      BatchNorm2d-16            [-1, 128, 8, 8]             256\n",
      "             ReLU-17            [-1, 128, 8, 8]               0\n",
      "           Conv2d-18            [-1, 128, 8, 8]         147,584\n",
      "      BatchNorm2d-19            [-1, 128, 8, 8]             256\n",
      "             ReLU-20            [-1, 128, 8, 8]               0\n",
      "        MaxPool2d-21            [-1, 128, 4, 4]               0\n",
      "           Conv2d-22            [-1, 256, 4, 4]         295,168\n",
      "      BatchNorm2d-23            [-1, 256, 4, 4]             512\n",
      "             ReLU-24            [-1, 256, 4, 4]               0\n",
      "           Conv2d-25            [-1, 256, 4, 4]         590,080\n",
      "      BatchNorm2d-26            [-1, 256, 4, 4]             512\n",
      "             ReLU-27            [-1, 256, 4, 4]               0\n",
      "        MaxPool2d-28            [-1, 256, 2, 2]               0\n",
      "           Linear-29                  [-1, 256]         262,400\n",
      "             ReLU-30                  [-1, 256]               0\n",
      "           Linear-31                  [-1, 128]          32,896\n",
      "             ReLU-32                  [-1, 128]               0\n",
      "           Linear-33                   [-1, 10]           1,290\n",
      "================================================================\n",
      "Total params: 1,470,762\n",
      "Trainable params: 1,470,762\n",
      "Non-trainable params: 0\n",
      "----------------------------------------------------------------\n",
      "Input size (MB): 0.01\n",
      "Forward/backward pass size (MB): 2.94\n",
      "Params size (MB): 5.61\n",
      "Estimated Total Size (MB): 8.56\n",
      "----------------------------------------------------------------\n"
     ]
    }
   ],
   "source": [
    "import torch\n",
    "import torch.nn as nn\n",
    "import torch.ao.quantization as tq\n",
    "import torch.nn.functional as F\n",
    "\n",
    "\n",
    "class VGG(nn.Module):\n",
    "    def __init__(self, in_channels=3, in_size=32, num_classes=10) -> None:\n",
    "        super(VGG, self).__init__()\n",
    "        \n",
    "        # Conv1 (2 layers)\n",
    "        self.conv1 = nn.Sequential(\n",
    "            nn.Conv2d(in_channels, 32, kernel_size=3, stride=1, padding=1),\n",
    "            nn.BatchNorm2d(32),\n",
    "            nn.ReLU(inplace=True),\n",
    "            nn.Conv2d(32, 32, kernel_size=3, stride=1, padding=1),\n",
    "            nn.BatchNorm2d(32),\n",
    "            nn.ReLU(inplace=True),\n",
    "            nn.MaxPool2d(kernel_size=2, stride=2)  # 32×32 -> 16×16\n",
    "        )\n",
    "        \n",
    "        # Conv2 (2 layers)\n",
    "        self.conv2 = nn.Sequential(\n",
    "            nn.Conv2d(32, 64, kernel_size=3, stride=1, padding=1),\n",
    "            nn.BatchNorm2d(64),\n",
    "            nn.ReLU(inplace=True),\n",
    "            nn.Conv2d(64, 64, kernel_size=3, stride=1, padding=1),\n",
    "            nn.BatchNorm2d(64),\n",
    "            nn.ReLU(inplace=True),\n",
    "            nn.MaxPool2d(kernel_size=2, stride=2)  # 16×16 -> 8×8\n",
    "        )\n",
    "        \n",
    "        # Conv3 (2 layers)\n",
    "        self.conv3 = nn.Sequential(\n",
    "            nn.Conv2d(64, 128, kernel_size=3, stride=1, padding=1),\n",
    "            nn.BatchNorm2d(128),\n",
    "            nn.ReLU(inplace=True),\n",
    "            nn.Conv2d(128, 128, kernel_size=3, stride=1, padding=1),\n",
    "            nn.BatchNorm2d(128),\n",
    "            nn.ReLU(inplace=True),\n",
    "            nn.MaxPool2d(kernel_size=2, stride=2)  # 8×8 -> 4×4\n",
    "        )\n",
    "        \n",
    "        # Conv4 (Dilated, 1 layer)\n",
    "        self.conv4 = nn.Sequential(\n",
    "            nn.Conv2d(128, 256, kernel_size=3, stride=1, padding=1),\n",
    "            nn.BatchNorm2d(256),\n",
    "            nn.ReLU(inplace=True)\n",
    "        )\n",
    "        \n",
    "        # Conv5 (1 layer)\n",
    "        self.conv5 = nn.Sequential(\n",
    "            nn.Conv2d(256, 256, kernel_size=3, stride=1, padding=1),\n",
    "            nn.BatchNorm2d(256),\n",
    "            nn.ReLU(inplace=True),\n",
    "            nn.MaxPool2d(kernel_size=2, stride=2)  # 4×4 -> 2×2\n",
    "        )\n",
    "        \n",
    "        # Fully Connected Layers\n",
    "        fmap_size = in_size // 16  # 32 -> 16 -> 8 -> 4 -> 2 (4 次 MaxPool)\n",
    "        self.fc6 = nn.Sequential(\n",
    "            nn.Linear(256 * fmap_size * fmap_size, 256),  # 256×2×2 = 1024\n",
    "            nn.ReLU(inplace=True)\n",
    "        )\n",
    "        self.fc7 = nn.Sequential(\n",
    "            nn.Linear(256, 128),\n",
    "            nn.ReLU(inplace=True)\n",
    "        )\n",
    "        self.fc8 = nn.Linear(128, num_classes)\n",
    "        \n",
    "    def forward(self, x):\n",
    "        x = self.conv1(x)  # 32×32 -> 16×16\n",
    "        x = self.conv2(x)  # 16×16 -> 8×8\n",
    "        x = self.conv3(x)  # 8×8 -> 4×4\n",
    "        x = self.conv4(x)  # 4×4 -> 4×4\n",
    "        x = self.conv5(x)  # 4×4 -> 2×2\n",
    "        x = torch.flatten(x, start_dim=1)  # Flatten: (batch_size, 1024)\n",
    "        x = self.fc6(x)  # 1024 -> 256\n",
    "        x = self.fc7(x)  # 256 -> 128\n",
    "        x = self.fc8(x)  # 128 -> 10\n",
    "        return x\n",
    "        \n",
    "    def fuse_modules(self):\n",
    "        # fuse conv1 兩組\n",
    "        self.eval()\n",
    "        tq.fuse_modules(self.conv1, [['0', '1', '2'], ['3', '4', '5']], inplace=True)\n",
    "        \n",
    "        # fuse conv2\n",
    "        tq.fuse_modules(self.conv2, [['0', '1', '2'], ['3', '4', '5']], inplace=True)\n",
    "\n",
    "        # fuse conv3\n",
    "        tq.fuse_modules(self.conv3, [['0', '1', '2'], ['3', '4', '5']], inplace=True)\n",
    "\n",
    "        # fuse conv4 (只有一組)\n",
    "        tq.fuse_modules(self.conv4, [['0', '1', '2']], inplace=True)\n",
    "\n",
    "        # fuse conv5\n",
    "        tq.fuse_modules(self.conv5, [['0', '1', '2']], inplace=True)\n",
    "\n",
    "        # fuse 全連接層\n",
    "        tq.fuse_modules(self.fc6, [['0', '1']], inplace=True)\n",
    "        tq.fuse_modules(self.fc7, [['0', '1']], inplace=True)\n",
    "\n",
    "        \n",
    "            \n",
    "if __name__ == \"__main__\":\n",
    "    model = VGG()\n",
    "    inputs = torch.randn(1, 3, 32, 32)\n",
    "    print(model)\n",
    "\n",
    "    from torchsummary import summary\n",
    "\n",
    "    summary(model, (3, 32, 32), device=\"cpu\")\n",
    "\n"
   ]
  },
  {
   "cell_type": "markdown",
   "id": "7d1d0dc0",
   "metadata": {},
   "source": [
    "### QConfig\n",
    "#### Quantization scheme\n",
    "- Write your QConfig Observer inorder to do PTQ\n",
    "- Use Power-of-Two uniform/scale, symmetric quantization to quantize model.\n",
    "- Finish qconfig observer for PTQ calibration.\n"
   ]
  },
  {
   "cell_type": "code",
   "execution_count": 4,
   "id": "31eeb229",
   "metadata": {},
   "outputs": [],
   "source": [
    "from enum import Enum\n",
    "import math\n",
    "\n",
    "import torch\n",
    "import torch.ao.quantization as tq\n",
    "\n",
    "\n",
    "class PowerOfTwoObserver(tq.MinMaxObserver):\n",
    "    \"\"\"\n",
    "    Observer module for power-of-two quantization (dyadic quantization with b = 1).\n",
    "    \"\"\"\n",
    "\n",
    "    def scale_approximate(self, scale: float, max_shift_amount=8) -> float:\n",
    "        if scale == 0:\n",
    "            return 0.0\n",
    "        exponent = round(math.log(scale, 2))\n",
    "        exponent = max(-max_shift_amount, min(exponent, 0))\n",
    "        return 2 ** exponent\n",
    "        \n",
    "    def calculate_qparams(self):\n",
    "        \"\"\"Calculates the quantization parameters with scale as power of two.\"\"\"\n",
    "        min_val, max_val = self.min_val.item(), self.max_val.item()\n",
    "        if self.dtype == torch.qint8:\n",
    "            qmin, qmax = -127, 127\n",
    "            zero_point = 0\n",
    "        elif self.dtype == torch.quint8:\n",
    "            qmin, qmax = 0, 255\n",
    "            zero_point = 128\n",
    "        else:\n",
    "            raise ValueError(\"Unsupported dtype\")\n",
    "        \n",
    "        max_abs = 2 * max(abs(min_val), abs(max_val))\n",
    "        # 避免除以0或inf\n",
    "        if max_abs == 0:\n",
    "            scale = 0\n",
    "        elif max_abs == float(\"inf\"):\n",
    "            scale = 1\n",
    "        else:\n",
    "            scale = max_abs / (qmax-qmin)\n",
    "        scale = self.scale_approximate(scale)\n",
    "        scale = torch.tensor(scale, dtype=torch.float32)\n",
    "        zero_point = torch.tensor(zero_point, dtype=torch.int64)\n",
    "        zero_point = torch.clamp(zero_point, qmin, qmax)\n",
    "        # print(f\"scale: {scale.item()}\") \n",
    "        return scale, zero_point\n",
    "    \n",
    "class CustomQConfig(Enum):\n",
    "    POWER2 = tq.QConfig(\n",
    "        activation=PowerOfTwoObserver.with_args(\n",
    "            dtype=torch.quint8, qscheme=torch.per_tensor_symmetric\n",
    "        ),\n",
    "        weight=PowerOfTwoObserver.with_args(\n",
    "            dtype=torch.qint8, qscheme=torch.per_tensor_symmetric\n",
    "        ),\n",
    "    )\n",
    "    DEFAULT = None\n",
    "\n"
   ]
  },
  {
   "cell_type": "markdown",
   "id": "aeeb7099",
   "metadata": {},
   "source": [
    "### Model Training\n",
    "\n",
    "- Set hyper parameter for training.\n",
    "- Record the number of epochs and the accuracy in the results.\n",
    "- Plot the accuracy and loss.\n",
    "\n"
   ]
  },
  {
   "cell_type": "code",
   "execution_count": 5,
   "id": "5b181bba",
   "metadata": {},
   "outputs": [
    {
     "name": "stdout",
     "output_type": "stream",
     "text": [
      "Files already downloaded and verified\n",
      "Files already downloaded and verified\n"
     ]
    },
    {
     "data": {
      "application/vnd.jupyter.widget-view+json": {
       "model_id": "bb35da2cdb914434a57578bcd6b6eebe",
       "version_major": 2,
       "version_minor": 0
      },
      "text/plain": [
       "Epochs:   0%|          | 0/50 [00:00<?, ?it/s]"
      ]
     },
     "metadata": {},
     "output_type": "display_data"
    },
    {
     "data": {
      "application/vnd.jupyter.widget-view+json": {
       "model_id": "a3a570208b3440e3a791cc39550c7ea8",
       "version_major": 2,
       "version_minor": 0
      },
      "text/plain": [
       "Training:   0%|          | 0/704 [00:00<?, ?it/s]"
      ]
     },
     "metadata": {},
     "output_type": "display_data"
    },
    {
     "data": {
      "application/vnd.jupyter.widget-view+json": {
       "model_id": "7b3d7f2bdda74a3ab987cf9bc9e983f5",
       "version_major": 2,
       "version_minor": 0
      },
      "text/plain": [
       "Evaluating:   0%|          | 0/79 [00:00<?, ?it/s]"
      ]
     },
     "metadata": {},
     "output_type": "display_data"
    },
    {
     "name": "stdout",
     "output_type": "stream",
     "text": [
      "Epoch  1/50  lr=1.00e-01, train_loss=1.9539, val_loss=1.9951, train_acc=0.2861, val_acc=0.3176\n",
      "Model saved at weights/cifar10/vgg.pt (5.907156 MB)\n"
     ]
    },
    {
     "data": {
      "application/vnd.jupyter.widget-view+json": {
       "model_id": "860abe6c85b14ff58d74d7d71512c4fc",
       "version_major": 2,
       "version_minor": 0
      },
      "text/plain": [
       "Training:   0%|          | 0/704 [00:00<?, ?it/s]"
      ]
     },
     "metadata": {},
     "output_type": "display_data"
    },
    {
     "data": {
      "application/vnd.jupyter.widget-view+json": {
       "model_id": "557f700965fc4dfd9800b157c6426722",
       "version_major": 2,
       "version_minor": 0
      },
      "text/plain": [
       "Evaluating:   0%|          | 0/79 [00:00<?, ?it/s]"
      ]
     },
     "metadata": {},
     "output_type": "display_data"
    },
    {
     "name": "stdout",
     "output_type": "stream",
     "text": [
      "Epoch  2/50  lr=9.99e-02, train_loss=1.6843, val_loss=1.7156, train_acc=0.4442, val_acc=0.4602\n",
      "Model saved at weights/cifar10/vgg.pt (5.907156 MB)\n"
     ]
    },
    {
     "data": {
      "application/vnd.jupyter.widget-view+json": {
       "model_id": "43a2dee2e3d9435ba3073082eea7644b",
       "version_major": 2,
       "version_minor": 0
      },
      "text/plain": [
       "Training:   0%|          | 0/704 [00:00<?, ?it/s]"
      ]
     },
     "metadata": {},
     "output_type": "display_data"
    },
    {
     "data": {
      "application/vnd.jupyter.widget-view+json": {
       "model_id": "5317c22dd79f4cf58570a827b0800972",
       "version_major": 2,
       "version_minor": 0
      },
      "text/plain": [
       "Evaluating:   0%|          | 0/79 [00:00<?, ?it/s]"
      ]
     },
     "metadata": {},
     "output_type": "display_data"
    },
    {
     "name": "stdout",
     "output_type": "stream",
     "text": [
      "Epoch  3/50  lr=9.96e-02, train_loss=1.5240, val_loss=1.5128, train_acc=0.5345, val_acc=0.5452\n",
      "Model saved at weights/cifar10/vgg.pt (5.907156 MB)\n"
     ]
    },
    {
     "data": {
      "application/vnd.jupyter.widget-view+json": {
       "model_id": "6618387002da45f2aab8aa3eb5d8db70",
       "version_major": 2,
       "version_minor": 0
      },
      "text/plain": [
       "Training:   0%|          | 0/704 [00:00<?, ?it/s]"
      ]
     },
     "metadata": {},
     "output_type": "display_data"
    },
    {
     "data": {
      "application/vnd.jupyter.widget-view+json": {
       "model_id": "4cbcb4ca76fd473a8bef4981c26dd6c8",
       "version_major": 2,
       "version_minor": 0
      },
      "text/plain": [
       "Evaluating:   0%|          | 0/79 [00:00<?, ?it/s]"
      ]
     },
     "metadata": {},
     "output_type": "display_data"
    },
    {
     "name": "stdout",
     "output_type": "stream",
     "text": [
      "Epoch  4/50  lr=9.91e-02, train_loss=1.4391, val_loss=1.6168, train_acc=0.5799, val_acc=0.5236\n",
      "No improvement for 1 epoch(s).\n"
     ]
    },
    {
     "data": {
      "application/vnd.jupyter.widget-view+json": {
       "model_id": "3cafd81c2ac2475e82cd7a20358c6add",
       "version_major": 2,
       "version_minor": 0
      },
      "text/plain": [
       "Training:   0%|          | 0/704 [00:00<?, ?it/s]"
      ]
     },
     "metadata": {},
     "output_type": "display_data"
    },
    {
     "data": {
      "application/vnd.jupyter.widget-view+json": {
       "model_id": "7a65b99f9f8a402e9da47a150a21ea89",
       "version_major": 2,
       "version_minor": 0
      },
      "text/plain": [
       "Evaluating:   0%|          | 0/79 [00:00<?, ?it/s]"
      ]
     },
     "metadata": {},
     "output_type": "display_data"
    },
    {
     "name": "stdout",
     "output_type": "stream",
     "text": [
      "Epoch  5/50  lr=9.84e-02, train_loss=1.3623, val_loss=1.7862, train_acc=0.6184, val_acc=0.4640\n",
      "No improvement for 2 epoch(s).\n"
     ]
    },
    {
     "data": {
      "application/vnd.jupyter.widget-view+json": {
       "model_id": "f854c7fb70ea43588c77301de9067a28",
       "version_major": 2,
       "version_minor": 0
      },
      "text/plain": [
       "Training:   0%|          | 0/704 [00:00<?, ?it/s]"
      ]
     },
     "metadata": {},
     "output_type": "display_data"
    },
    {
     "data": {
      "application/vnd.jupyter.widget-view+json": {
       "model_id": "7e3c0dc6c74348a39955c307a8f0dcf4",
       "version_major": 2,
       "version_minor": 0
      },
      "text/plain": [
       "Evaluating:   0%|          | 0/79 [00:00<?, ?it/s]"
      ]
     },
     "metadata": {},
     "output_type": "display_data"
    },
    {
     "name": "stdout",
     "output_type": "stream",
     "text": [
      "Epoch  6/50  lr=9.76e-02, train_loss=1.3179, val_loss=1.5912, train_acc=0.6422, val_acc=0.5520\n",
      "Model saved at weights/cifar10/vgg.pt (5.907156 MB)\n"
     ]
    },
    {
     "data": {
      "application/vnd.jupyter.widget-view+json": {
       "model_id": "513740bbf84748debcb51ff2398110e1",
       "version_major": 2,
       "version_minor": 0
      },
      "text/plain": [
       "Training:   0%|          | 0/704 [00:00<?, ?it/s]"
      ]
     },
     "metadata": {},
     "output_type": "display_data"
    },
    {
     "data": {
      "application/vnd.jupyter.widget-view+json": {
       "model_id": "76184a82d4b24d5586f12e6731f36db4",
       "version_major": 2,
       "version_minor": 0
      },
      "text/plain": [
       "Evaluating:   0%|          | 0/79 [00:00<?, ?it/s]"
      ]
     },
     "metadata": {},
     "output_type": "display_data"
    },
    {
     "name": "stdout",
     "output_type": "stream",
     "text": [
      "Epoch  7/50  lr=9.65e-02, train_loss=1.2801, val_loss=1.7651, train_acc=0.6605, val_acc=0.5032\n",
      "No improvement for 1 epoch(s).\n"
     ]
    },
    {
     "data": {
      "application/vnd.jupyter.widget-view+json": {
       "model_id": "87d42f2d256c4d7888d6bfdabb1b553d",
       "version_major": 2,
       "version_minor": 0
      },
      "text/plain": [
       "Training:   0%|          | 0/704 [00:00<?, ?it/s]"
      ]
     },
     "metadata": {},
     "output_type": "display_data"
    },
    {
     "data": {
      "application/vnd.jupyter.widget-view+json": {
       "model_id": "28a8f5909e3e41738cc9b8b884f0569a",
       "version_major": 2,
       "version_minor": 0
      },
      "text/plain": [
       "Evaluating:   0%|          | 0/79 [00:00<?, ?it/s]"
      ]
     },
     "metadata": {},
     "output_type": "display_data"
    },
    {
     "name": "stdout",
     "output_type": "stream",
     "text": [
      "Epoch  8/50  lr=9.52e-02, train_loss=1.2422, val_loss=1.4203, train_acc=0.6778, val_acc=0.6074\n",
      "Model saved at weights/cifar10/vgg.pt (5.907156 MB)\n"
     ]
    },
    {
     "data": {
      "application/vnd.jupyter.widget-view+json": {
       "model_id": "f597e02570a24e4d9e18896c2ced0362",
       "version_major": 2,
       "version_minor": 0
      },
      "text/plain": [
       "Training:   0%|          | 0/704 [00:00<?, ?it/s]"
      ]
     },
     "metadata": {},
     "output_type": "display_data"
    },
    {
     "data": {
      "application/vnd.jupyter.widget-view+json": {
       "model_id": "942ae99bfd584df6b8327dd60d1098e5",
       "version_major": 2,
       "version_minor": 0
      },
      "text/plain": [
       "Evaluating:   0%|          | 0/79 [00:00<?, ?it/s]"
      ]
     },
     "metadata": {},
     "output_type": "display_data"
    },
    {
     "name": "stdout",
     "output_type": "stream",
     "text": [
      "Epoch  9/50  lr=9.38e-02, train_loss=1.2206, val_loss=1.4079, train_acc=0.6875, val_acc=0.6076\n",
      "Model saved at weights/cifar10/vgg.pt (5.907156 MB)\n"
     ]
    },
    {
     "data": {
      "application/vnd.jupyter.widget-view+json": {
       "model_id": "71804d2ff30547b29ca0f91f442b66f0",
       "version_major": 2,
       "version_minor": 0
      },
      "text/plain": [
       "Training:   0%|          | 0/704 [00:00<?, ?it/s]"
      ]
     },
     "metadata": {},
     "output_type": "display_data"
    },
    {
     "data": {
      "application/vnd.jupyter.widget-view+json": {
       "model_id": "03751de6519d4c61bd0809db73745e7b",
       "version_major": 2,
       "version_minor": 0
      },
      "text/plain": [
       "Evaluating:   0%|          | 0/79 [00:00<?, ?it/s]"
      ]
     },
     "metadata": {},
     "output_type": "display_data"
    },
    {
     "name": "stdout",
     "output_type": "stream",
     "text": [
      "Epoch 10/50  lr=9.22e-02, train_loss=1.2011, val_loss=1.3217, train_acc=0.6969, val_acc=0.6498\n",
      "Model saved at weights/cifar10/vgg.pt (5.907156 MB)\n"
     ]
    },
    {
     "data": {
      "application/vnd.jupyter.widget-view+json": {
       "model_id": "795ccf09eb0e4bd4b080dde11ee8ef4a",
       "version_major": 2,
       "version_minor": 0
      },
      "text/plain": [
       "Training:   0%|          | 0/704 [00:00<?, ?it/s]"
      ]
     },
     "metadata": {},
     "output_type": "display_data"
    },
    {
     "data": {
      "application/vnd.jupyter.widget-view+json": {
       "model_id": "a493c5d0d28345ce8668506e06dce58b",
       "version_major": 2,
       "version_minor": 0
      },
      "text/plain": [
       "Evaluating:   0%|          | 0/79 [00:00<?, ?it/s]"
      ]
     },
     "metadata": {},
     "output_type": "display_data"
    },
    {
     "name": "stdout",
     "output_type": "stream",
     "text": [
      "Epoch 11/50  lr=9.05e-02, train_loss=1.1875, val_loss=1.3528, train_acc=0.7022, val_acc=0.6348\n",
      "No improvement for 1 epoch(s).\n"
     ]
    },
    {
     "data": {
      "application/vnd.jupyter.widget-view+json": {
       "model_id": "c6883f4e282542b49436ff48debd81fa",
       "version_major": 2,
       "version_minor": 0
      },
      "text/plain": [
       "Training:   0%|          | 0/704 [00:00<?, ?it/s]"
      ]
     },
     "metadata": {},
     "output_type": "display_data"
    },
    {
     "data": {
      "application/vnd.jupyter.widget-view+json": {
       "model_id": "f887fef2fd934cb3912efc045c1f72a2",
       "version_major": 2,
       "version_minor": 0
      },
      "text/plain": [
       "Evaluating:   0%|          | 0/79 [00:00<?, ?it/s]"
      ]
     },
     "metadata": {},
     "output_type": "display_data"
    },
    {
     "name": "stdout",
     "output_type": "stream",
     "text": [
      "Epoch 12/50  lr=8.85e-02, train_loss=1.1714, val_loss=1.3506, train_acc=0.7096, val_acc=0.6348\n",
      "No improvement for 2 epoch(s).\n"
     ]
    },
    {
     "data": {
      "application/vnd.jupyter.widget-view+json": {
       "model_id": "2ba7d1efb2f24271b76f1d5c8b48e6fe",
       "version_major": 2,
       "version_minor": 0
      },
      "text/plain": [
       "Training:   0%|          | 0/704 [00:00<?, ?it/s]"
      ]
     },
     "metadata": {},
     "output_type": "display_data"
    },
    {
     "data": {
      "application/vnd.jupyter.widget-view+json": {
       "model_id": "c7ee7b4cba9e4252999f12adbbf879c0",
       "version_major": 2,
       "version_minor": 0
      },
      "text/plain": [
       "Evaluating:   0%|          | 0/79 [00:00<?, ?it/s]"
      ]
     },
     "metadata": {},
     "output_type": "display_data"
    },
    {
     "name": "stdout",
     "output_type": "stream",
     "text": [
      "Epoch 13/50  lr=8.64e-02, train_loss=1.1593, val_loss=1.2253, train_acc=0.7136, val_acc=0.6786\n",
      "Model saved at weights/cifar10/vgg.pt (5.907156 MB)\n"
     ]
    },
    {
     "data": {
      "application/vnd.jupyter.widget-view+json": {
       "model_id": "db7e32f4e26c407199e0d743139fb624",
       "version_major": 2,
       "version_minor": 0
      },
      "text/plain": [
       "Training:   0%|          | 0/704 [00:00<?, ?it/s]"
      ]
     },
     "metadata": {},
     "output_type": "display_data"
    },
    {
     "data": {
      "application/vnd.jupyter.widget-view+json": {
       "model_id": "01a986c70cb94a23bfd505f79592ccc3",
       "version_major": 2,
       "version_minor": 0
      },
      "text/plain": [
       "Evaluating:   0%|          | 0/79 [00:00<?, ?it/s]"
      ]
     },
     "metadata": {},
     "output_type": "display_data"
    },
    {
     "name": "stdout",
     "output_type": "stream",
     "text": [
      "Epoch 14/50  lr=8.42e-02, train_loss=1.1402, val_loss=1.4282, train_acc=0.7228, val_acc=0.6080\n",
      "No improvement for 1 epoch(s).\n"
     ]
    },
    {
     "data": {
      "application/vnd.jupyter.widget-view+json": {
       "model_id": "d11a0350f30a46c3afd47ba954e9862c",
       "version_major": 2,
       "version_minor": 0
      },
      "text/plain": [
       "Training:   0%|          | 0/704 [00:00<?, ?it/s]"
      ]
     },
     "metadata": {},
     "output_type": "display_data"
    },
    {
     "data": {
      "application/vnd.jupyter.widget-view+json": {
       "model_id": "cff95d85549f4145b7a7d88674ce695b",
       "version_major": 2,
       "version_minor": 0
      },
      "text/plain": [
       "Evaluating:   0%|          | 0/79 [00:00<?, ?it/s]"
      ]
     },
     "metadata": {},
     "output_type": "display_data"
    },
    {
     "name": "stdout",
     "output_type": "stream",
     "text": [
      "Epoch 15/50  lr=8.19e-02, train_loss=1.1365, val_loss=1.4340, train_acc=0.7235, val_acc=0.6220\n",
      "No improvement for 2 epoch(s).\n"
     ]
    },
    {
     "data": {
      "application/vnd.jupyter.widget-view+json": {
       "model_id": "4e49357bca094004b25735960b73fa03",
       "version_major": 2,
       "version_minor": 0
      },
      "text/plain": [
       "Training:   0%|          | 0/704 [00:00<?, ?it/s]"
      ]
     },
     "metadata": {},
     "output_type": "display_data"
    },
    {
     "data": {
      "application/vnd.jupyter.widget-view+json": {
       "model_id": "34da6703e7b54531a12eb1fd8473d310",
       "version_major": 2,
       "version_minor": 0
      },
      "text/plain": [
       "Evaluating:   0%|          | 0/79 [00:00<?, ?it/s]"
      ]
     },
     "metadata": {},
     "output_type": "display_data"
    },
    {
     "name": "stdout",
     "output_type": "stream",
     "text": [
      "Epoch 16/50  lr=7.94e-02, train_loss=1.1225, val_loss=1.2844, train_acc=0.7313, val_acc=0.6614\n",
      "No improvement for 3 epoch(s).\n"
     ]
    },
    {
     "data": {
      "application/vnd.jupyter.widget-view+json": {
       "model_id": "95b3de74987e4be6a332a7f32847de0e",
       "version_major": 2,
       "version_minor": 0
      },
      "text/plain": [
       "Training:   0%|          | 0/704 [00:00<?, ?it/s]"
      ]
     },
     "metadata": {},
     "output_type": "display_data"
    },
    {
     "data": {
      "application/vnd.jupyter.widget-view+json": {
       "model_id": "cee8a970785642a0a8613a6318caf23a",
       "version_major": 2,
       "version_minor": 0
      },
      "text/plain": [
       "Evaluating:   0%|          | 0/79 [00:00<?, ?it/s]"
      ]
     },
     "metadata": {},
     "output_type": "display_data"
    },
    {
     "name": "stdout",
     "output_type": "stream",
     "text": [
      "Epoch 17/50  lr=7.68e-02, train_loss=1.1098, val_loss=1.3218, train_acc=0.7380, val_acc=0.6626\n",
      "No improvement for 4 epoch(s).\n"
     ]
    },
    {
     "data": {
      "application/vnd.jupyter.widget-view+json": {
       "model_id": "81c281a9e5a7427a8f88be442d4f0955",
       "version_major": 2,
       "version_minor": 0
      },
      "text/plain": [
       "Training:   0%|          | 0/704 [00:00<?, ?it/s]"
      ]
     },
     "metadata": {},
     "output_type": "display_data"
    },
    {
     "data": {
      "application/vnd.jupyter.widget-view+json": {
       "model_id": "9d971af5223142e1bfa228099af811e3",
       "version_major": 2,
       "version_minor": 0
      },
      "text/plain": [
       "Evaluating:   0%|          | 0/79 [00:00<?, ?it/s]"
      ]
     },
     "metadata": {},
     "output_type": "display_data"
    },
    {
     "name": "stdout",
     "output_type": "stream",
     "text": [
      "Epoch 18/50  lr=7.41e-02, train_loss=1.0992, val_loss=1.2942, train_acc=0.7408, val_acc=0.6524\n",
      "No improvement for 5 epoch(s).\n"
     ]
    },
    {
     "data": {
      "application/vnd.jupyter.widget-view+json": {
       "model_id": "b21de7f328a7418a9cdde8fd59504073",
       "version_major": 2,
       "version_minor": 0
      },
      "text/plain": [
       "Training:   0%|          | 0/704 [00:00<?, ?it/s]"
      ]
     },
     "metadata": {},
     "output_type": "display_data"
    },
    {
     "data": {
      "application/vnd.jupyter.widget-view+json": {
       "model_id": "3906cbd095694357b817a422d2fe3517",
       "version_major": 2,
       "version_minor": 0
      },
      "text/plain": [
       "Evaluating:   0%|          | 0/79 [00:00<?, ?it/s]"
      ]
     },
     "metadata": {},
     "output_type": "display_data"
    },
    {
     "name": "stdout",
     "output_type": "stream",
     "text": [
      "Epoch 19/50  lr=7.13e-02, train_loss=1.0858, val_loss=1.3201, train_acc=0.7475, val_acc=0.6532\n",
      "No improvement for 6 epoch(s).\n"
     ]
    },
    {
     "data": {
      "application/vnd.jupyter.widget-view+json": {
       "model_id": "63a3dfa1a430435eb5e0b4d046953007",
       "version_major": 2,
       "version_minor": 0
      },
      "text/plain": [
       "Training:   0%|          | 0/704 [00:00<?, ?it/s]"
      ]
     },
     "metadata": {},
     "output_type": "display_data"
    },
    {
     "data": {
      "application/vnd.jupyter.widget-view+json": {
       "model_id": "4449c569842b4f61a642a39ffcc9ff0d",
       "version_major": 2,
       "version_minor": 0
      },
      "text/plain": [
       "Evaluating:   0%|          | 0/79 [00:00<?, ?it/s]"
      ]
     },
     "metadata": {},
     "output_type": "display_data"
    },
    {
     "name": "stdout",
     "output_type": "stream",
     "text": [
      "Epoch 20/50  lr=6.84e-02, train_loss=1.0741, val_loss=1.2126, train_acc=0.7503, val_acc=0.7004\n",
      "Model saved at weights/cifar10/vgg.pt (5.907156 MB)\n"
     ]
    },
    {
     "data": {
      "application/vnd.jupyter.widget-view+json": {
       "model_id": "063e6258f4d9437bb3030fa4f691fce8",
       "version_major": 2,
       "version_minor": 0
      },
      "text/plain": [
       "Training:   0%|          | 0/704 [00:00<?, ?it/s]"
      ]
     },
     "metadata": {},
     "output_type": "display_data"
    },
    {
     "data": {
      "application/vnd.jupyter.widget-view+json": {
       "model_id": "4d7c284c0c9e45cf9b369f4628d9cb4c",
       "version_major": 2,
       "version_minor": 0
      },
      "text/plain": [
       "Evaluating:   0%|          | 0/79 [00:00<?, ?it/s]"
      ]
     },
     "metadata": {},
     "output_type": "display_data"
    },
    {
     "name": "stdout",
     "output_type": "stream",
     "text": [
      "Epoch 21/50  lr=6.55e-02, train_loss=1.0574, val_loss=1.2219, train_acc=0.7581, val_acc=0.6924\n",
      "No improvement for 1 epoch(s).\n"
     ]
    },
    {
     "data": {
      "application/vnd.jupyter.widget-view+json": {
       "model_id": "f4fec1d1acac47299e35695f00d96e59",
       "version_major": 2,
       "version_minor": 0
      },
      "text/plain": [
       "Training:   0%|          | 0/704 [00:00<?, ?it/s]"
      ]
     },
     "metadata": {},
     "output_type": "display_data"
    },
    {
     "data": {
      "application/vnd.jupyter.widget-view+json": {
       "model_id": "334a79a2e6ec4446babc903564d75ed5",
       "version_major": 2,
       "version_minor": 0
      },
      "text/plain": [
       "Evaluating:   0%|          | 0/79 [00:00<?, ?it/s]"
      ]
     },
     "metadata": {},
     "output_type": "display_data"
    },
    {
     "name": "stdout",
     "output_type": "stream",
     "text": [
      "Epoch 22/50  lr=6.24e-02, train_loss=1.0435, val_loss=1.1392, train_acc=0.7650, val_acc=0.7264\n",
      "Model saved at weights/cifar10/vgg.pt (5.907156 MB)\n"
     ]
    },
    {
     "data": {
      "application/vnd.jupyter.widget-view+json": {
       "model_id": "a6f80ab4d8044275beb6d4215db6d372",
       "version_major": 2,
       "version_minor": 0
      },
      "text/plain": [
       "Training:   0%|          | 0/704 [00:00<?, ?it/s]"
      ]
     },
     "metadata": {},
     "output_type": "display_data"
    },
    {
     "data": {
      "application/vnd.jupyter.widget-view+json": {
       "model_id": "b7950872ede447ad800429a0d2b5af29",
       "version_major": 2,
       "version_minor": 0
      },
      "text/plain": [
       "Evaluating:   0%|          | 0/79 [00:00<?, ?it/s]"
      ]
     },
     "metadata": {},
     "output_type": "display_data"
    },
    {
     "name": "stdout",
     "output_type": "stream",
     "text": [
      "Epoch 23/50  lr=5.94e-02, train_loss=1.0410, val_loss=1.1353, train_acc=0.7665, val_acc=0.7162\n",
      "No improvement for 1 epoch(s).\n"
     ]
    },
    {
     "data": {
      "application/vnd.jupyter.widget-view+json": {
       "model_id": "822a6a48f72f4d4ebd4d7488a70c7daa",
       "version_major": 2,
       "version_minor": 0
      },
      "text/plain": [
       "Training:   0%|          | 0/704 [00:00<?, ?it/s]"
      ]
     },
     "metadata": {},
     "output_type": "display_data"
    },
    {
     "data": {
      "application/vnd.jupyter.widget-view+json": {
       "model_id": "21297b417ad344b5b2a9e9bb77680f2d",
       "version_major": 2,
       "version_minor": 0
      },
      "text/plain": [
       "Evaluating:   0%|          | 0/79 [00:00<?, ?it/s]"
      ]
     },
     "metadata": {},
     "output_type": "display_data"
    },
    {
     "name": "stdout",
     "output_type": "stream",
     "text": [
      "Epoch 24/50  lr=5.63e-02, train_loss=1.0215, val_loss=1.0886, train_acc=0.7746, val_acc=0.7410\n",
      "Model saved at weights/cifar10/vgg.pt (5.907156 MB)\n"
     ]
    },
    {
     "data": {
      "application/vnd.jupyter.widget-view+json": {
       "model_id": "1e31a937f4d14c8d874ea6938fc00dcc",
       "version_major": 2,
       "version_minor": 0
      },
      "text/plain": [
       "Training:   0%|          | 0/704 [00:00<?, ?it/s]"
      ]
     },
     "metadata": {},
     "output_type": "display_data"
    },
    {
     "data": {
      "application/vnd.jupyter.widget-view+json": {
       "model_id": "64a1173833684278aeb036ab9f372091",
       "version_major": 2,
       "version_minor": 0
      },
      "text/plain": [
       "Evaluating:   0%|          | 0/79 [00:00<?, ?it/s]"
      ]
     },
     "metadata": {},
     "output_type": "display_data"
    },
    {
     "name": "stdout",
     "output_type": "stream",
     "text": [
      "Epoch 25/50  lr=5.31e-02, train_loss=1.0150, val_loss=1.1552, train_acc=0.7772, val_acc=0.7134\n",
      "No improvement for 1 epoch(s).\n"
     ]
    },
    {
     "data": {
      "application/vnd.jupyter.widget-view+json": {
       "model_id": "3777cb93e71f443b9ce8ea759ac20cd4",
       "version_major": 2,
       "version_minor": 0
      },
      "text/plain": [
       "Training:   0%|          | 0/704 [00:00<?, ?it/s]"
      ]
     },
     "metadata": {},
     "output_type": "display_data"
    },
    {
     "data": {
      "application/vnd.jupyter.widget-view+json": {
       "model_id": "c741ca960f464b98a69eaa95c59b20a9",
       "version_major": 2,
       "version_minor": 0
      },
      "text/plain": [
       "Evaluating:   0%|          | 0/79 [00:00<?, ?it/s]"
      ]
     },
     "metadata": {},
     "output_type": "display_data"
    },
    {
     "name": "stdout",
     "output_type": "stream",
     "text": [
      "Epoch 26/50  lr=5.00e-02, train_loss=1.0041, val_loss=1.0706, train_acc=0.7797, val_acc=0.7526\n",
      "Model saved at weights/cifar10/vgg.pt (5.907156 MB)\n"
     ]
    },
    {
     "data": {
      "application/vnd.jupyter.widget-view+json": {
       "model_id": "615bddd954f946eea667d0608320429c",
       "version_major": 2,
       "version_minor": 0
      },
      "text/plain": [
       "Training:   0%|          | 0/704 [00:00<?, ?it/s]"
      ]
     },
     "metadata": {},
     "output_type": "display_data"
    },
    {
     "data": {
      "application/vnd.jupyter.widget-view+json": {
       "model_id": "1876e5d31b4b4fcea7ceda4d9c5db22d",
       "version_major": 2,
       "version_minor": 0
      },
      "text/plain": [
       "Evaluating:   0%|          | 0/79 [00:00<?, ?it/s]"
      ]
     },
     "metadata": {},
     "output_type": "display_data"
    },
    {
     "name": "stdout",
     "output_type": "stream",
     "text": [
      "Epoch 27/50  lr=4.69e-02, train_loss=0.9872, val_loss=1.1310, train_acc=0.7875, val_acc=0.7264\n",
      "No improvement for 1 epoch(s).\n"
     ]
    },
    {
     "data": {
      "application/vnd.jupyter.widget-view+json": {
       "model_id": "fcd99979163e43f8b52c34cfb409839c",
       "version_major": 2,
       "version_minor": 0
      },
      "text/plain": [
       "Training:   0%|          | 0/704 [00:00<?, ?it/s]"
      ]
     },
     "metadata": {},
     "output_type": "display_data"
    },
    {
     "data": {
      "application/vnd.jupyter.widget-view+json": {
       "model_id": "b0bdc617a6b240bcb08771f3a43ce2df",
       "version_major": 2,
       "version_minor": 0
      },
      "text/plain": [
       "Evaluating:   0%|          | 0/79 [00:00<?, ?it/s]"
      ]
     },
     "metadata": {},
     "output_type": "display_data"
    },
    {
     "name": "stdout",
     "output_type": "stream",
     "text": [
      "Epoch 28/50  lr=4.37e-02, train_loss=0.9726, val_loss=1.0791, train_acc=0.7947, val_acc=0.7482\n",
      "No improvement for 2 epoch(s).\n"
     ]
    },
    {
     "data": {
      "application/vnd.jupyter.widget-view+json": {
       "model_id": "e3b609a64a144f27839c822365f81dae",
       "version_major": 2,
       "version_minor": 0
      },
      "text/plain": [
       "Training:   0%|          | 0/704 [00:00<?, ?it/s]"
      ]
     },
     "metadata": {},
     "output_type": "display_data"
    },
    {
     "data": {
      "application/vnd.jupyter.widget-view+json": {
       "model_id": "62d9cf2d02b24a0d8f168b1730d4e12c",
       "version_major": 2,
       "version_minor": 0
      },
      "text/plain": [
       "Evaluating:   0%|          | 0/79 [00:00<?, ?it/s]"
      ]
     },
     "metadata": {},
     "output_type": "display_data"
    },
    {
     "name": "stdout",
     "output_type": "stream",
     "text": [
      "Epoch 29/50  lr=4.06e-02, train_loss=0.9585, val_loss=1.0840, train_acc=0.8018, val_acc=0.7456\n",
      "No improvement for 3 epoch(s).\n"
     ]
    },
    {
     "data": {
      "application/vnd.jupyter.widget-view+json": {
       "model_id": "bef5a864fb2a452aa90a468a4f0ae233",
       "version_major": 2,
       "version_minor": 0
      },
      "text/plain": [
       "Training:   0%|          | 0/704 [00:00<?, ?it/s]"
      ]
     },
     "metadata": {},
     "output_type": "display_data"
    },
    {
     "data": {
      "application/vnd.jupyter.widget-view+json": {
       "model_id": "c1589ae18dcf4a7eb29fba3145da7481",
       "version_major": 2,
       "version_minor": 0
      },
      "text/plain": [
       "Evaluating:   0%|          | 0/79 [00:00<?, ?it/s]"
      ]
     },
     "metadata": {},
     "output_type": "display_data"
    },
    {
     "name": "stdout",
     "output_type": "stream",
     "text": [
      "Epoch 30/50  lr=3.76e-02, train_loss=0.9436, val_loss=1.1237, train_acc=0.8051, val_acc=0.7298\n",
      "No improvement for 4 epoch(s).\n"
     ]
    },
    {
     "data": {
      "application/vnd.jupyter.widget-view+json": {
       "model_id": "b903e21b606e4a0aaac36bb30ea4c012",
       "version_major": 2,
       "version_minor": 0
      },
      "text/plain": [
       "Training:   0%|          | 0/704 [00:00<?, ?it/s]"
      ]
     },
     "metadata": {},
     "output_type": "display_data"
    },
    {
     "data": {
      "application/vnd.jupyter.widget-view+json": {
       "model_id": "723fba94aae1446bae015deea7b6eb4f",
       "version_major": 2,
       "version_minor": 0
      },
      "text/plain": [
       "Evaluating:   0%|          | 0/79 [00:00<?, ?it/s]"
      ]
     },
     "metadata": {},
     "output_type": "display_data"
    },
    {
     "name": "stdout",
     "output_type": "stream",
     "text": [
      "Epoch 31/50  lr=3.45e-02, train_loss=0.9372, val_loss=0.9873, train_acc=0.8100, val_acc=0.7876\n",
      "Model saved at weights/cifar10/vgg.pt (5.907156 MB)\n"
     ]
    },
    {
     "data": {
      "application/vnd.jupyter.widget-view+json": {
       "model_id": "0ff53e61adf242398f012464fe035b5c",
       "version_major": 2,
       "version_minor": 0
      },
      "text/plain": [
       "Training:   0%|          | 0/704 [00:00<?, ?it/s]"
      ]
     },
     "metadata": {},
     "output_type": "display_data"
    },
    {
     "data": {
      "application/vnd.jupyter.widget-view+json": {
       "model_id": "19852c3571584b6e93dff1bd64d739f9",
       "version_major": 2,
       "version_minor": 0
      },
      "text/plain": [
       "Evaluating:   0%|          | 0/79 [00:00<?, ?it/s]"
      ]
     },
     "metadata": {},
     "output_type": "display_data"
    },
    {
     "name": "stdout",
     "output_type": "stream",
     "text": [
      "Epoch 32/50  lr=3.16e-02, train_loss=0.9148, val_loss=1.0005, train_acc=0.8196, val_acc=0.7840\n",
      "No improvement for 1 epoch(s).\n"
     ]
    },
    {
     "data": {
      "application/vnd.jupyter.widget-view+json": {
       "model_id": "6aa82657c71449b5bebc4466a634c05e",
       "version_major": 2,
       "version_minor": 0
      },
      "text/plain": [
       "Training:   0%|          | 0/704 [00:00<?, ?it/s]"
      ]
     },
     "metadata": {},
     "output_type": "display_data"
    },
    {
     "data": {
      "application/vnd.jupyter.widget-view+json": {
       "model_id": "6d9e9d1e7b6e4cdaaa606e792d7b1e15",
       "version_major": 2,
       "version_minor": 0
      },
      "text/plain": [
       "Evaluating:   0%|          | 0/79 [00:00<?, ?it/s]"
      ]
     },
     "metadata": {},
     "output_type": "display_data"
    },
    {
     "name": "stdout",
     "output_type": "stream",
     "text": [
      "Epoch 33/50  lr=2.87e-02, train_loss=0.8999, val_loss=1.0198, train_acc=0.8240, val_acc=0.7734\n",
      "No improvement for 2 epoch(s).\n"
     ]
    },
    {
     "data": {
      "application/vnd.jupyter.widget-view+json": {
       "model_id": "0be322ceba8e4afd9329bdbd98596a93",
       "version_major": 2,
       "version_minor": 0
      },
      "text/plain": [
       "Training:   0%|          | 0/704 [00:00<?, ?it/s]"
      ]
     },
     "metadata": {},
     "output_type": "display_data"
    },
    {
     "data": {
      "application/vnd.jupyter.widget-view+json": {
       "model_id": "ea42ed0a18104fec871003f91f1455e9",
       "version_major": 2,
       "version_minor": 0
      },
      "text/plain": [
       "Evaluating:   0%|          | 0/79 [00:00<?, ?it/s]"
      ]
     },
     "metadata": {},
     "output_type": "display_data"
    },
    {
     "name": "stdout",
     "output_type": "stream",
     "text": [
      "Epoch 34/50  lr=2.59e-02, train_loss=0.8880, val_loss=1.0295, train_acc=0.8291, val_acc=0.7686\n",
      "No improvement for 3 epoch(s).\n"
     ]
    },
    {
     "data": {
      "application/vnd.jupyter.widget-view+json": {
       "model_id": "3c540d78b9af49c2bc15151845770395",
       "version_major": 2,
       "version_minor": 0
      },
      "text/plain": [
       "Training:   0%|          | 0/704 [00:00<?, ?it/s]"
      ]
     },
     "metadata": {},
     "output_type": "display_data"
    },
    {
     "data": {
      "application/vnd.jupyter.widget-view+json": {
       "model_id": "57a32ab3e8b2484e834830c9922ca3e4",
       "version_major": 2,
       "version_minor": 0
      },
      "text/plain": [
       "Evaluating:   0%|          | 0/79 [00:00<?, ?it/s]"
      ]
     },
     "metadata": {},
     "output_type": "display_data"
    },
    {
     "name": "stdout",
     "output_type": "stream",
     "text": [
      "Epoch 35/50  lr=2.32e-02, train_loss=0.8742, val_loss=0.9855, train_acc=0.8352, val_acc=0.7874\n",
      "No improvement for 4 epoch(s).\n"
     ]
    },
    {
     "data": {
      "application/vnd.jupyter.widget-view+json": {
       "model_id": "14514d86044e43218f58114a59574bab",
       "version_major": 2,
       "version_minor": 0
      },
      "text/plain": [
       "Training:   0%|          | 0/704 [00:00<?, ?it/s]"
      ]
     },
     "metadata": {},
     "output_type": "display_data"
    },
    {
     "data": {
      "application/vnd.jupyter.widget-view+json": {
       "model_id": "3a11d16c9c5148d7adac5ce6ca3586c0",
       "version_major": 2,
       "version_minor": 0
      },
      "text/plain": [
       "Evaluating:   0%|          | 0/79 [00:00<?, ?it/s]"
      ]
     },
     "metadata": {},
     "output_type": "display_data"
    },
    {
     "name": "stdout",
     "output_type": "stream",
     "text": [
      "Epoch 36/50  lr=2.06e-02, train_loss=0.8604, val_loss=0.9607, train_acc=0.8428, val_acc=0.7938\n",
      "Model saved at weights/cifar10/vgg.pt (5.907156 MB)\n"
     ]
    },
    {
     "data": {
      "application/vnd.jupyter.widget-view+json": {
       "model_id": "5e87ebf894ed448a8299ba7eb7668b20",
       "version_major": 2,
       "version_minor": 0
      },
      "text/plain": [
       "Training:   0%|          | 0/704 [00:00<?, ?it/s]"
      ]
     },
     "metadata": {},
     "output_type": "display_data"
    },
    {
     "data": {
      "application/vnd.jupyter.widget-view+json": {
       "model_id": "310ec765bca84eaa8612387201df4163",
       "version_major": 2,
       "version_minor": 0
      },
      "text/plain": [
       "Evaluating:   0%|          | 0/79 [00:00<?, ?it/s]"
      ]
     },
     "metadata": {},
     "output_type": "display_data"
    },
    {
     "name": "stdout",
     "output_type": "stream",
     "text": [
      "Epoch 37/50  lr=1.81e-02, train_loss=0.8382, val_loss=0.9468, train_acc=0.8508, val_acc=0.8100\n",
      "Model saved at weights/cifar10/vgg.pt (5.907156 MB)\n"
     ]
    },
    {
     "data": {
      "application/vnd.jupyter.widget-view+json": {
       "model_id": "c4806758c4c54e6dbef6a6ecb1ce5955",
       "version_major": 2,
       "version_minor": 0
      },
      "text/plain": [
       "Training:   0%|          | 0/704 [00:00<?, ?it/s]"
      ]
     },
     "metadata": {},
     "output_type": "display_data"
    },
    {
     "data": {
      "application/vnd.jupyter.widget-view+json": {
       "model_id": "d3a06e88c0c64ae89c2e7a4fc520c197",
       "version_major": 2,
       "version_minor": 0
      },
      "text/plain": [
       "Evaluating:   0%|          | 0/79 [00:00<?, ?it/s]"
      ]
     },
     "metadata": {},
     "output_type": "display_data"
    },
    {
     "name": "stdout",
     "output_type": "stream",
     "text": [
      "Epoch 38/50  lr=1.58e-02, train_loss=0.8206, val_loss=0.8839, train_acc=0.8610, val_acc=0.8282\n",
      "Model saved at weights/cifar10/vgg.pt (5.907156 MB)\n"
     ]
    },
    {
     "data": {
      "application/vnd.jupyter.widget-view+json": {
       "model_id": "e8f87078de434b328fe78c110825bd34",
       "version_major": 2,
       "version_minor": 0
      },
      "text/plain": [
       "Training:   0%|          | 0/704 [00:00<?, ?it/s]"
      ]
     },
     "metadata": {},
     "output_type": "display_data"
    },
    {
     "data": {
      "application/vnd.jupyter.widget-view+json": {
       "model_id": "55d23b4bf12642f99318a14aafbecd11",
       "version_major": 2,
       "version_minor": 0
      },
      "text/plain": [
       "Evaluating:   0%|          | 0/79 [00:00<?, ?it/s]"
      ]
     },
     "metadata": {},
     "output_type": "display_data"
    },
    {
     "name": "stdout",
     "output_type": "stream",
     "text": [
      "Epoch 39/50  lr=1.36e-02, train_loss=0.8080, val_loss=0.9125, train_acc=0.8648, val_acc=0.8178\n",
      "No improvement for 1 epoch(s).\n"
     ]
    },
    {
     "data": {
      "application/vnd.jupyter.widget-view+json": {
       "model_id": "5edac263e20548c8820901d1e7804d3d",
       "version_major": 2,
       "version_minor": 0
      },
      "text/plain": [
       "Training:   0%|          | 0/704 [00:00<?, ?it/s]"
      ]
     },
     "metadata": {},
     "output_type": "display_data"
    },
    {
     "data": {
      "application/vnd.jupyter.widget-view+json": {
       "model_id": "a3a2ef65cb8d4af78e4b667e756bab42",
       "version_major": 2,
       "version_minor": 0
      },
      "text/plain": [
       "Evaluating:   0%|          | 0/79 [00:00<?, ?it/s]"
      ]
     },
     "metadata": {},
     "output_type": "display_data"
    },
    {
     "name": "stdout",
     "output_type": "stream",
     "text": [
      "Epoch 40/50  lr=1.15e-02, train_loss=0.7893, val_loss=0.8707, train_acc=0.8722, val_acc=0.8374\n",
      "Model saved at weights/cifar10/vgg.pt (5.907156 MB)\n"
     ]
    },
    {
     "data": {
      "application/vnd.jupyter.widget-view+json": {
       "model_id": "6c5c01facb354ca8a0f7a6ba23e36dae",
       "version_major": 2,
       "version_minor": 0
      },
      "text/plain": [
       "Training:   0%|          | 0/704 [00:00<?, ?it/s]"
      ]
     },
     "metadata": {},
     "output_type": "display_data"
    },
    {
     "data": {
      "application/vnd.jupyter.widget-view+json": {
       "model_id": "6537a46d0ab24d1f951c97bda92bf41c",
       "version_major": 2,
       "version_minor": 0
      },
      "text/plain": [
       "Evaluating:   0%|          | 0/79 [00:00<?, ?it/s]"
      ]
     },
     "metadata": {},
     "output_type": "display_data"
    },
    {
     "name": "stdout",
     "output_type": "stream",
     "text": [
      "Epoch 41/50  lr=9.55e-03, train_loss=0.7668, val_loss=0.8626, train_acc=0.8844, val_acc=0.8454\n",
      "Model saved at weights/cifar10/vgg.pt (5.907156 MB)\n"
     ]
    },
    {
     "data": {
      "application/vnd.jupyter.widget-view+json": {
       "model_id": "b11150859ef14c7fb04ea3b723156b79",
       "version_major": 2,
       "version_minor": 0
      },
      "text/plain": [
       "Training:   0%|          | 0/704 [00:00<?, ?it/s]"
      ]
     },
     "metadata": {},
     "output_type": "display_data"
    },
    {
     "data": {
      "application/vnd.jupyter.widget-view+json": {
       "model_id": "9fa1e0e73da34585a759b9bf568e2cb4",
       "version_major": 2,
       "version_minor": 0
      },
      "text/plain": [
       "Evaluating:   0%|          | 0/79 [00:00<?, ?it/s]"
      ]
     },
     "metadata": {},
     "output_type": "display_data"
    },
    {
     "name": "stdout",
     "output_type": "stream",
     "text": [
      "Epoch 42/50  lr=7.78e-03, train_loss=0.7543, val_loss=0.8522, train_acc=0.8881, val_acc=0.8442\n",
      "No improvement for 1 epoch(s).\n"
     ]
    },
    {
     "data": {
      "application/vnd.jupyter.widget-view+json": {
       "model_id": "95ed66a8d70d48168a4029a760891fd1",
       "version_major": 2,
       "version_minor": 0
      },
      "text/plain": [
       "Training:   0%|          | 0/704 [00:00<?, ?it/s]"
      ]
     },
     "metadata": {},
     "output_type": "display_data"
    },
    {
     "data": {
      "application/vnd.jupyter.widget-view+json": {
       "model_id": "05efcfe882c54c3282ea14d164b7d97a",
       "version_major": 2,
       "version_minor": 0
      },
      "text/plain": [
       "Evaluating:   0%|          | 0/79 [00:00<?, ?it/s]"
      ]
     },
     "metadata": {},
     "output_type": "display_data"
    },
    {
     "name": "stdout",
     "output_type": "stream",
     "text": [
      "Epoch 43/50  lr=6.19e-03, train_loss=0.7333, val_loss=0.8327, train_acc=0.8984, val_acc=0.8558\n",
      "Model saved at weights/cifar10/vgg.pt (5.907156 MB)\n"
     ]
    },
    {
     "data": {
      "application/vnd.jupyter.widget-view+json": {
       "model_id": "dc87f388fa6d4298946b8320c88f3109",
       "version_major": 2,
       "version_minor": 0
      },
      "text/plain": [
       "Training:   0%|          | 0/704 [00:00<?, ?it/s]"
      ]
     },
     "metadata": {},
     "output_type": "display_data"
    },
    {
     "data": {
      "application/vnd.jupyter.widget-view+json": {
       "model_id": "233709a3982d40dbbb008da2e7eb3441",
       "version_major": 2,
       "version_minor": 0
      },
      "text/plain": [
       "Evaluating:   0%|          | 0/79 [00:00<?, ?it/s]"
      ]
     },
     "metadata": {},
     "output_type": "display_data"
    },
    {
     "name": "stdout",
     "output_type": "stream",
     "text": [
      "Epoch 44/50  lr=4.76e-03, train_loss=0.7207, val_loss=0.8076, train_acc=0.9033, val_acc=0.8656\n",
      "Model saved at weights/cifar10/vgg.pt (5.907156 MB)\n"
     ]
    },
    {
     "data": {
      "application/vnd.jupyter.widget-view+json": {
       "model_id": "7b65892f2bee4fe7b20d1af9dde79f4e",
       "version_major": 2,
       "version_minor": 0
      },
      "text/plain": [
       "Training:   0%|          | 0/704 [00:00<?, ?it/s]"
      ]
     },
     "metadata": {},
     "output_type": "display_data"
    },
    {
     "data": {
      "application/vnd.jupyter.widget-view+json": {
       "model_id": "b7251bfa192b413aac3006e9caf90abf",
       "version_major": 2,
       "version_minor": 0
      },
      "text/plain": [
       "Evaluating:   0%|          | 0/79 [00:00<?, ?it/s]"
      ]
     },
     "metadata": {},
     "output_type": "display_data"
    },
    {
     "name": "stdout",
     "output_type": "stream",
     "text": [
      "Epoch 45/50  lr=3.51e-03, train_loss=0.7067, val_loss=0.8038, train_acc=0.9108, val_acc=0.8682\n",
      "Model saved at weights/cifar10/vgg.pt (5.907156 MB)\n"
     ]
    },
    {
     "data": {
      "application/vnd.jupyter.widget-view+json": {
       "model_id": "e7e9e767041643f2a7fe348c4a2277fa",
       "version_major": 2,
       "version_minor": 0
      },
      "text/plain": [
       "Training:   0%|          | 0/704 [00:00<?, ?it/s]"
      ]
     },
     "metadata": {},
     "output_type": "display_data"
    },
    {
     "data": {
      "application/vnd.jupyter.widget-view+json": {
       "model_id": "6d9ded0e386e4c3c8ff00e941de3f7b3",
       "version_major": 2,
       "version_minor": 0
      },
      "text/plain": [
       "Evaluating:   0%|          | 0/79 [00:00<?, ?it/s]"
      ]
     },
     "metadata": {},
     "output_type": "display_data"
    },
    {
     "name": "stdout",
     "output_type": "stream",
     "text": [
      "Epoch 46/50  lr=2.45e-03, train_loss=0.6924, val_loss=0.8054, train_acc=0.9163, val_acc=0.8694\n",
      "Model saved at weights/cifar10/vgg.pt (5.907156 MB)\n"
     ]
    },
    {
     "data": {
      "application/vnd.jupyter.widget-view+json": {
       "model_id": "7a7759dbd492450492b0d994763f4fd7",
       "version_major": 2,
       "version_minor": 0
      },
      "text/plain": [
       "Training:   0%|          | 0/704 [00:00<?, ?it/s]"
      ]
     },
     "metadata": {},
     "output_type": "display_data"
    },
    {
     "data": {
      "application/vnd.jupyter.widget-view+json": {
       "model_id": "0ce9e677900b4d45a0d6f0c32ee8207e",
       "version_major": 2,
       "version_minor": 0
      },
      "text/plain": [
       "Evaluating:   0%|          | 0/79 [00:00<?, ?it/s]"
      ]
     },
     "metadata": {},
     "output_type": "display_data"
    },
    {
     "name": "stdout",
     "output_type": "stream",
     "text": [
      "Epoch 47/50  lr=1.57e-03, train_loss=0.6825, val_loss=0.7858, train_acc=0.9219, val_acc=0.8672\n",
      "No improvement for 1 epoch(s).\n"
     ]
    },
    {
     "data": {
      "application/vnd.jupyter.widget-view+json": {
       "model_id": "2bc2373ed39a4c5da3b2d86ea1f1b7af",
       "version_major": 2,
       "version_minor": 0
      },
      "text/plain": [
       "Training:   0%|          | 0/704 [00:00<?, ?it/s]"
      ]
     },
     "metadata": {},
     "output_type": "display_data"
    },
    {
     "data": {
      "application/vnd.jupyter.widget-view+json": {
       "model_id": "5d05b2f5deb54e4bb0fbf8a97ccfe7c7",
       "version_major": 2,
       "version_minor": 0
      },
      "text/plain": [
       "Evaluating:   0%|          | 0/79 [00:00<?, ?it/s]"
      ]
     },
     "metadata": {},
     "output_type": "display_data"
    },
    {
     "name": "stdout",
     "output_type": "stream",
     "text": [
      "Epoch 48/50  lr=8.87e-04, train_loss=0.6725, val_loss=0.7834, train_acc=0.9257, val_acc=0.8748\n",
      "Model saved at weights/cifar10/vgg.pt (5.907156 MB)\n"
     ]
    },
    {
     "data": {
      "application/vnd.jupyter.widget-view+json": {
       "model_id": "b2d9daa552264c0aba9083fb4162ccd7",
       "version_major": 2,
       "version_minor": 0
      },
      "text/plain": [
       "Training:   0%|          | 0/704 [00:00<?, ?it/s]"
      ]
     },
     "metadata": {},
     "output_type": "display_data"
    },
    {
     "data": {
      "application/vnd.jupyter.widget-view+json": {
       "model_id": "c810cd8194c845ceb96b7fce44f0736a",
       "version_major": 2,
       "version_minor": 0
      },
      "text/plain": [
       "Evaluating:   0%|          | 0/79 [00:00<?, ?it/s]"
      ]
     },
     "metadata": {},
     "output_type": "display_data"
    },
    {
     "name": "stdout",
     "output_type": "stream",
     "text": [
      "Epoch 49/50  lr=3.95e-04, train_loss=0.6703, val_loss=0.7873, train_acc=0.9280, val_acc=0.8750\n",
      "Model saved at weights/cifar10/vgg.pt (5.907156 MB)\n"
     ]
    },
    {
     "data": {
      "application/vnd.jupyter.widget-view+json": {
       "model_id": "544e32f694f240ebba73a6ea1935f28c",
       "version_major": 2,
       "version_minor": 0
      },
      "text/plain": [
       "Training:   0%|          | 0/704 [00:00<?, ?it/s]"
      ]
     },
     "metadata": {},
     "output_type": "display_data"
    },
    {
     "data": {
      "application/vnd.jupyter.widget-view+json": {
       "model_id": "9fb0b277a612400195dd8e3c472d2f5f",
       "version_major": 2,
       "version_minor": 0
      },
      "text/plain": [
       "Evaluating:   0%|          | 0/79 [00:00<?, ?it/s]"
      ]
     },
     "metadata": {},
     "output_type": "display_data"
    },
    {
     "name": "stdout",
     "output_type": "stream",
     "text": [
      "Epoch 50/50  lr=9.97e-05, train_loss=0.6681, val_loss=0.7855, train_acc=0.9278, val_acc=0.8774\n",
      "Model saved at weights/cifar10/vgg.pt (5.907156 MB)\n"
     ]
    },
    {
     "data": {
      "application/vnd.jupyter.widget-view+json": {
       "model_id": "a5817b6120174b9c837e2e364c70dcfb",
       "version_major": 2,
       "version_minor": 0
      },
      "text/plain": [
       "Evaluating:   0%|          | 0/157 [00:00<?, ?it/s]"
      ]
     },
     "metadata": {},
     "output_type": "display_data"
    },
    {
     "name": "stdout",
     "output_type": "stream",
     "text": [
      "Test: loss=0.7097, accuracy=0.9111\n",
      "Model size: 5.91 MB\n",
      "Plot saved at figure/cifar10/vgg-9.png\n",
      "Time: 1928.42s\n"
     ]
    },
    {
     "data": {
      "image/png": "[encoded data removed]",
      "text/plain": [
       "<Figure size 640x480 with 2 Axes>"
      ]
     },
     "metadata": {},
     "output_type": "display_data"
    }
   ],
   "source": [
    "import os\n",
    "import time\n",
    "\n",
    "import torch\n",
    "from torch import nn, optim\n",
    "from tqdm.notebook import tqdm\n",
    "\n",
    "reset_seed(10)\n",
    "\n",
    "\n",
    "def train_one_epoch(model, loader, criterion, optimizer, device=DEFAULT_DEVICE):\n",
    "    running_loss = 0\n",
    "    total, correct = 0, 0\n",
    "\n",
    "    loop = tqdm(loader, desc=\"Training\", leave=True)\n",
    "\n",
    "    for images, labels in loop:\n",
    "        images, labels = images.to(device), labels.to(device)\n",
    "        optimizer.zero_grad()\n",
    "        output = model(images)\n",
    "        loss = criterion(output, labels)\n",
    "        loss.backward()\n",
    "        optimizer.step()\n",
    "\n",
    "        running_loss += loss.item()\n",
    "        predicted = torch.argmax(output, 1)\n",
    "        total += labels.size(0)\n",
    "        correct += (predicted == labels).sum().item()\n",
    "\n",
    "        loop.set_postfix(\n",
    "            loss=running_loss / (total / images.shape[0]), accuracy=correct / total\n",
    "        )\n",
    "\n",
    "    avg_loss = running_loss / len(loader)\n",
    "    accuracy = correct / total\n",
    "    return avg_loss, accuracy\n",
    "\n",
    "\n",
    "def train(\n",
    "    model,\n",
    "    trainloader,\n",
    "    valloader,\n",
    "    criterion,\n",
    "    optimizer,\n",
    "    scheduler=None,\n",
    "    epochs=1,\n",
    "    save_path=None,\n",
    "    early_stop_patience=5,\n",
    "    device=DEFAULT_DEVICE,\n",
    "):\n",
    "    model = model.to(device)\n",
    "\n",
    "    train_loss, train_acc = [], []\n",
    "    val_loss, val_acc = [], []\n",
    "\n",
    "    best_val_acc = 0.0\n",
    "    early_stop_count = 0\n",
    "\n",
    "    epoch_loop = tqdm(range(epochs), desc=\"Epochs\", leave=True)\n",
    "\n",
    "    for epoch in epoch_loop:\n",
    "        model.train()\n",
    "        _train_loss, _train_acc = train_one_epoch(\n",
    "            model, trainloader, criterion, optimizer\n",
    "        )\n",
    "        train_loss.append(_train_loss)\n",
    "        train_acc.append(_train_acc)\n",
    "\n",
    "        model.eval()\n",
    "        _val_loss, _val_acc, _ = evaluate(model, valloader, criterion)\n",
    "        val_loss.append(_val_loss)\n",
    "        val_acc.append(_val_acc)\n",
    "\n",
    "        print(f\"Epoch {epoch + 1:2d}/{epochs}\", end=\"  \")\n",
    "        if scheduler is not None:\n",
    "            print(f\"lr={scheduler.get_last_lr()[0]:.2e}\", end=\", \")\n",
    "        print(f\"train_loss={_train_loss:.4f}, val_loss={_val_loss:.4f}\", end=\", \")\n",
    "        print(f\"train_acc={_train_acc:.4f}, val_acc={_val_acc:.4f}\")\n",
    "\n",
    "\n",
    "        # 若當前驗證準確率超越最佳值則儲存模型\n",
    "        if _val_acc >= best_val_acc:\n",
    "            best_val_acc = _val_acc\n",
    "            early_stop_count = 0  # 重置 patience 計數器\n",
    "            if _val_acc >= max(val_acc):\n",
    "                save_model(model, save_path, existed=\"overwrite\")\n",
    "        else:\n",
    "            early_stop_count += 1\n",
    "            print(f\"No improvement for {early_stop_count} epoch(s).\")\n",
    "\n",
    "        # 若超過 patience，則提前停止訓練\n",
    "        if early_stop_count >= early_stop_patience:\n",
    "            print(f\"Early stopping triggered after {epoch+1} epochs.\")\n",
    "            break\n",
    "        \n",
    "\n",
    "        if scheduler is not None:\n",
    "            scheduler.step()\n",
    "\n",
    "        epoch_loop.set_postfix(\n",
    "            train_loss=_train_loss,\n",
    "            val_loss=_val_loss,\n",
    "            train_acc=_train_acc,\n",
    "            val_acc=_val_acc,\n",
    "        )\n",
    "\n",
    "    return train_loss, train_acc, val_loss, val_acc\n",
    "\n",
    "\n",
    "def main(epochs, network, dataset, name=None):\n",
    "    dataset = dataset.lower()\n",
    "    if name is None:\n",
    "        name = f\"{dataset}/{network.__name__.lower()}\"\n",
    "\n",
    "    t = time.time()\n",
    "    trainloader, valloader, testloader = DATALOADERS[dataset](batch_size=64)\n",
    "    in_channels, in_size = trainloader.dataset[0][0].shape[:2]\n",
    "    model = network(in_channels, in_size).to(DEFAULT_DEVICE)\n",
    "    #########Implement your code here##########\n",
    "    #Loss function\n",
    "    criterion = nn.CrossEntropyLoss(label_smoothing=0.1)\n",
    "    #Optimizer\n",
    "    optimizer = optim.SGD(model.parameters(), lr=0.1, momentum=0.9, weight_decay=5e-4)\n",
    "    #Scheduler\n",
    "    scheduler = torch.optim.lr_scheduler.CosineAnnealingLR(optimizer, T_max=epochs, eta_min=1e-6)\n",
    "    ##########################################\n",
    "    train_loss, train_acc, val_loss, val_acc = train(\n",
    "        model,\n",
    "        trainloader,\n",
    "        valloader,\n",
    "        criterion,\n",
    "        optimizer,\n",
    "        scheduler,\n",
    "        epochs,\n",
    "        save_path=f\"weights/{name}.pt\",\n",
    "        early_stop_patience=10,  # 若驗證準確率 10 個 epoch 無提升則提前結束\n",
    "    )\n",
    "\n",
    "    test_loss, test_accuracy, _ = evaluate(model.eval(), testloader, criterion)\n",
    "    print(f\"Test: loss={test_loss:.4f}, accuracy={test_accuracy:.4f}\")\n",
    "    print(f\"Model size: {os.path.getsize(f'weights/{name}.pt') / 1e6:.2f} MB\")\n",
    "\n",
    "    plot_loss_accuracy(train_loss, train_acc, val_loss, val_acc, f\"figure/{name}.png\")\n",
    "    print(f\"Time: {time.time() - t:.2f}s\")\n",
    "\n",
    "\n",
    "if __name__ == \"__main__\":\n",
    "    for network in [VGG]:\n",
    "        \"\"\" You can adjust the number of epochs \"\"\"\n",
    "        EPOCHS = 50\n",
    "        main(epochs=EPOCHS, network=network, dataset=\"cifar10\")\n",
    "\n"
   ]
  },
  {
   "cell_type": "markdown",
   "id": "21abdd6e",
   "metadata": {},
   "source": [
    "### PTQ on VGG Model\n",
    "\n",
    "#### You can refer to 'Quantization in Practice' in the lab material.\n",
    "\n"
   ]
  },
  {
   "cell_type": "code",
   "execution_count": 6,
   "id": "11c3220e",
   "metadata": {},
   "outputs": [
    {
     "name": "stdout",
     "output_type": "stream",
     "text": [
      "Files already downloaded and verified\n",
      "Files already downloaded and verified\n"
     ]
    },
    {
     "name": "stderr",
     "output_type": "stream",
     "text": [
      "C:\\Users\\Administrator\\AppData\\Local\\Temp\\ipykernel_26788\\1024425284.py:31: FutureWarning: You are using `torch.load` with `weights_only=False` (the current default value), which uses the default pickle module implicitly. It is possible to construct malicious pickle data which will execute arbitrary code during unpickling (See https://github.com/pytorch/pytorch/blob/main/SECURITY.md#untrusted-models for more details). In a future release, the default value for `weights_only` will be flipped to `True`. This limits the functions that could be executed during unpickling. Arbitrary objects will no longer be allowed to be loaded via this mode unless they are explicitly allowlisted by the user via `torch.serialization.add_safe_globals`. We recommend you start setting `weights_only=True` for any use case where you don't have full control of the loaded file. Please open an issue on GitHub for any issues related to this experimental feature.\n",
      "  fmodel.load_state_dict(torch.load(model_path))\n"
     ]
    },
    {
     "name": "stdout",
     "output_type": "stream",
     "text": [
      "Quantization backend: QConfig(activation=functools.partial(<class '__main__.PowerOfTwoObserver'>, dtype=torch.quint8, qscheme=torch.per_tensor_symmetric){}, weight=functools.partial(<class '__main__.PowerOfTwoObserver'>, dtype=torch.qint8, qscheme=torch.per_tensor_symmetric){})\n",
      "Model saved at weights/cifar10/vgg-power2.pt (1.48893 MB)\n"
     ]
    }
   ],
   "source": [
    "import os\n",
    "import torch\n",
    "from torch import nn\n",
    "import torch.ao.quantization as tq\n",
    "\n",
    "reset_seed(0)\n",
    "\n",
    "#########Implement your code here##########\n",
    "\"\"\" Calibrate Method \"\"\"\n",
    "def calibrate(model, loader, device=DEFAULT_DEVICE):\n",
    "    model.eval().to(device)   \n",
    "    for x, _ in loader:       \n",
    "        model(x.to(device))  \n",
    "        break                 \n",
    "\n",
    "###########################################\n",
    "\n",
    "def main(network, verbose=True):\n",
    "\n",
    "    #########Implement your code here##########\n",
    "    \"\"\" Calibration \"\"\"\n",
    "\n",
    "    \"\"\" Calibration Data \"\"\"\n",
    "    dataset = 'cifar10'\n",
    "    backend = 'power2'\n",
    "    model_path = 'weights/cifar10/vgg.pt'\n",
    "    *_, test_loader = DATALOADERS[dataset](batch_size=1)\n",
    "    in_channels, in_size = trainloader.dataset[0][0].shape[:2]\n",
    "    \"\"\" Load Pretrained Model \"\"\"\n",
    "    fmodel = network(in_channels, in_size).eval().cpu()\n",
    "    fmodel.load_state_dict(torch.load(model_path))\n",
    "    \"\"\" Fuse Modules \"\"\"\n",
    "    # fmodel = load_model(network(in_channels, in_size), model_path, qconfig = None, fuse_modules= False)\n",
    "    fmodel.fuse_modules()\n",
    "    \"\"\" Configure Quantization \"\"\"\n",
    "    fmodel = tq.QuantWrapper(fmodel)  \n",
    "    fmodel.qconfig = CustomQConfig.POWER2.value\n",
    "    print(f\"Quantization backend: {fmodel.qconfig}\")\n",
    "    \n",
    "    \"\"\" Apply Quantization \"\"\"\n",
    "    tq.prepare(fmodel, inplace=True)\n",
    "    calibrate(fmodel, test_loader, \"cpu\") \n",
    "\n",
    "    \"\"\" Convert Model \"\"\"\n",
    "    tq.convert(fmodel.cpu(), inplace=True)\n",
    "\n",
    "    \"\"\" Save Model \"\"\"\n",
    "    save_model(fmodel, \"weights/cifar10/vgg-power2.pt\", existed=\"overwrite\")\n",
    "    ###########################################\n",
    "\n",
    "\n",
    "if __name__ == \"__main__\":\n",
    "    main(network=VGG, verbose=True)\n",
    "\n"
   ]
  },
  {
   "cell_type": "markdown",
   "id": "0691b2ff",
   "metadata": {},
   "source": [
    "### Evaluate Quantized Model\n"
   ]
  },
  {
   "cell_type": "code",
   "execution_count": 7,
   "id": "b270f467",
   "metadata": {},
   "outputs": [
    {
     "name": "stdout",
     "output_type": "stream",
     "text": [
      "Files already downloaded and verified\n",
      "Files already downloaded and verified\n",
      "Fusing modules\n",
      "Model loaded from ./weights/cifar10/vgg-power2.pt (1.48893 MB)\n",
      "QuantWrapper(\n",
      "  (quant): Quantize(scale=tensor([0.0156]), zero_point=tensor([128]), dtype=torch.quint8)\n",
      "  (dequant): DeQuantize()\n",
      "  (module): VGG(\n",
      "    (conv1): Sequential(\n",
      "      (0): QuantizedConvReLU2d(3, 32, kernel_size=(3, 3), stride=(1, 1), scale=0.015625, zero_point=128, padding=(1, 1))\n",
      "      (1): Identity()\n",
      "      (2): Identity()\n",
      "      (3): QuantizedConvReLU2d(32, 32, kernel_size=(3, 3), stride=(1, 1), scale=0.015625, zero_point=128, padding=(1, 1))\n",
      "      (4): Identity()\n",
      "      (5): Identity()\n",
      "      (6): MaxPool2d(kernel_size=2, stride=2, padding=0, dilation=1, ceil_mode=False)\n",
      "    )\n",
      "    (conv2): Sequential(\n",
      "      (0): QuantizedConvReLU2d(32, 64, kernel_size=(3, 3), stride=(1, 1), scale=0.015625, zero_point=128, padding=(1, 1))\n",
      "      (1): Identity()\n",
      "      (2): Identity()\n",
      "      (3): QuantizedConvReLU2d(64, 64, kernel_size=(3, 3), stride=(1, 1), scale=0.015625, zero_point=128, padding=(1, 1))\n",
      "      (4): Identity()\n",
      "      (5): Identity()\n",
      "      (6): MaxPool2d(kernel_size=2, stride=2, padding=0, dilation=1, ceil_mode=False)\n",
      "    )\n",
      "    (conv3): Sequential(\n",
      "      (0): QuantizedConvReLU2d(64, 128, kernel_size=(3, 3), stride=(1, 1), scale=0.0078125, zero_point=128, padding=(1, 1))\n",
      "      (1): Identity()\n",
      "      (2): Identity()\n",
      "      (3): QuantizedConvReLU2d(128, 128, kernel_size=(3, 3), stride=(1, 1), scale=0.0078125, zero_point=128, padding=(1, 1))\n",
      "      (4): Identity()\n",
      "      (5): Identity()\n",
      "      (6): MaxPool2d(kernel_size=2, stride=2, padding=0, dilation=1, ceil_mode=False)\n",
      "    )\n",
      "    (conv4): Sequential(\n",
      "      (0): QuantizedConvReLU2d(128, 256, kernel_size=(3, 3), stride=(1, 1), scale=0.0078125, zero_point=128, padding=(1, 1))\n",
      "      (1): Identity()\n",
      "      (2): Identity()\n",
      "    )\n",
      "    (conv5): Sequential(\n",
      "      (0): QuantizedConvReLU2d(256, 256, kernel_size=(3, 3), stride=(1, 1), scale=0.0078125, zero_point=128, padding=(1, 1))\n",
      "      (1): Identity()\n",
      "      (2): Identity()\n",
      "      (3): MaxPool2d(kernel_size=2, stride=2, padding=0, dilation=1, ceil_mode=False)\n",
      "    )\n",
      "    (fc6): Sequential(\n",
      "      (0): QuantizedLinearReLU(in_features=1024, out_features=256, scale=0.015625, zero_point=128, qscheme=torch.per_tensor_affine)\n",
      "      (1): Identity()\n",
      "    )\n",
      "    (fc7): Sequential(\n",
      "      (0): QuantizedLinearReLU(in_features=256, out_features=128, scale=0.015625, zero_point=128, qscheme=torch.per_tensor_affine)\n",
      "      (1): Identity()\n",
      "    )\n",
      "    (fc8): QuantizedLinear(in_features=128, out_features=10, scale=0.03125, zero_point=128, qscheme=torch.per_tensor_affine)\n",
      "  )\n",
      ")\n"
     ]
    },
    {
     "name": "stderr",
     "output_type": "stream",
     "text": [
      "C:\\Users\\Administrator\\AppData\\Local\\Temp\\ipykernel_26788\\2912952992.py:152: FutureWarning: You are using `torch.load` with `weights_only=False` (the current default value), which uses the default pickle module implicitly. It is possible to construct malicious pickle data which will execute arbitrary code during unpickling (See https://github.com/pytorch/pytorch/blob/main/SECURITY.md#untrusted-models for more details). In a future release, the default value for `weights_only` will be flipped to `True`. This limits the functions that could be executed during unpickling. Arbitrary objects will no longer be allowed to be loaded via this mode unless they are explicitly allowlisted by the user via `torch.serialization.add_safe_globals`. We recommend you start setting `weights_only=True` for any use case where you don't have full control of the loaded file. Please open an issue on GitHub for any issues related to this experimental feature.\n",
      "  model.load_state_dict(torch.load(filename, map_location=device))\n",
      "d:\\anaconda3\\envs\\AoC\\lib\\site-packages\\torch\\_utils.py:383: UserWarning: TypedStorage is deprecated. It will be removed in the future and UntypedStorage will be the only storage class. This should only matter to you if you are using storages directly.  To access UntypedStorage directly, use tensor.untyped_storage() instead of tensor.storage()\n",
      "  device=storage.device,\n"
     ]
    },
    {
     "data": {
      "application/vnd.jupyter.widget-view+json": {
       "model_id": "1b9b3016ec834257b45d1cf08c656a47",
       "version_major": 2,
       "version_minor": 0
      },
      "text/plain": [
       "Evaluating:   0%|          | 0/10 [00:00<?, ?it/s]"
      ]
     },
     "metadata": {},
     "output_type": "display_data"
    },
    {
     "name": "stdout",
     "output_type": "stream",
     "text": [
      "Test: loss=0.4812, accuracy=0.8917, size=1.48893MB\n"
     ]
    }
   ],
   "source": [
    "import os\n",
    "from torch import nn\n",
    "import torch.ao.quantization as tq\n",
    "\n",
    "reset_seed(0)\n",
    "\n",
    "def main():\n",
    "    dataset = 'cifar10'\n",
    "    backend = 'power2'\n",
    "    model_path = './weights/cifar10/vgg-power2.pt'\n",
    "\n",
    "    *_, test_loader = DATALOADERS[dataset](batch_size=1000)\n",
    "    in_channels, in_size = test_loader.dataset[0][0].shape[:2]\n",
    "    if backend:\n",
    "        qconfig = CustomQConfig[backend.upper()].value\n",
    "        fuse_modules = True\n",
    "    else:\n",
    "        qconfig = None\n",
    "        fuse_modules = False\n",
    "    model = load_model(VGG(in_channels, in_size), model_path, qconfig=qconfig, fuse_modules=fuse_modules)\n",
    "    print(model)\n",
    "\n",
    "    device = \"cpu\" if backend else DEFAULT_DEVICE\n",
    "    criterion = nn.CrossEntropyLoss()\n",
    "    test_loss, test_accuracy, _ = evaluate(\n",
    "        model.to(device), test_loader, criterion, device=device\n",
    "    )\n",
    "    print(\n",
    "        f\"Test: loss={test_loss:.4f}, accuracy={test_accuracy:.4f}, size={os.path.getsize(model_path) / 1e6}MB\"\n",
    "    )\n",
    "\n",
    "\n",
    "if __name__ == \"__main__\":\n",
    "    main()\n",
    "\n"
   ]
  },
  {
   "cell_type": "code",
   "execution_count": null,
   "id": "47a7ca52",
   "metadata": {},
   "outputs": [],
   "source": []
  }
 ],
 "metadata": {
  "kernelspec": {
   "display_name": "AoC",
   "language": "python",
   "name": "python3"
  },
  "language_info": {
   "codemirror_mode": {
    "name": "ipython",
    "version": 3
   },
   "file_extension": ".py",
   "mimetype": "text/x-python",
   "name": "python",
   "nbconvert_exporter": "python",
   "pygments_lexer": "ipython3",
   "version": "3.8.20"
  }
 },
 "nbformat": 4,
 "nbformat_minor": 5
}
